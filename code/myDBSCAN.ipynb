{
 "cells": [
  {
   "cell_type": "code",
   "execution_count": 1,
   "metadata": {},
   "outputs": [],
   "source": [
    "import jieba\n",
    "import re\n",
    "from sklearn.feature_extraction.text import CountVectorizer\n",
    "from sklearn.feature_extraction.text import TfidfTransformer\n",
    "from sklearn.cluster import DBSCAN\n",
    "from sklearn.decomposition import PCA\n",
    "import matplotlib.pyplot as plt\n",
    "import os\n",
    "import random\n",
    "import pickle"
   ]
  },
  {
   "cell_type": "code",
   "execution_count": 7,
   "metadata": {},
   "outputs": [],
   "source": [
    "class DbscanClustering():\n",
    "    def __init__(self, stopwords_path=None):\n",
    "        self.stopwords = self.load_stopwords(stopwords_path)\n",
    "        self.vectorizer = CountVectorizer()\n",
    "        self.transformer = TfidfTransformer()\n",
    "        self.result = {}\n",
    "        self.corpus_path = \"\"\n",
    "        self.num_docs_used = 10000\n",
    "#         self.sf = []\n",
    "\n",
    "    def load_stopwords(self, stopwords=None):\n",
    "        \"\"\"\n",
    "        加载停用词\n",
    "        :param stopwords:\n",
    "        :return:\n",
    "        \"\"\"\n",
    "        if stopwords:\n",
    "            with open(stopwords, 'r', encoding='utf-8') as f:\n",
    "                return [line.strip() for line in f]\n",
    "        else:\n",
    "            return []\n",
    "\n",
    "    def preprocess_data(self, corpus_path):\n",
    "        \"\"\"\n",
    "        文本预处理，每行一个文本\n",
    "        :param corpus_path:\n",
    "        :return:\n",
    "        \"\"\"\n",
    "        self.corpus_path = corpus_path\n",
    "        self.corpus = []\n",
    "        count = 0\n",
    "        with open(corpus_path, 'r', encoding='utf-8') as f:\n",
    "            file1 = open(\"../data/documents_10000_clean.txt\",\"w\")\n",
    "            for line in f:\n",
    "                line = line.strip()\n",
    "                line = re.sub(r\"[0-9\\s+\\.\\!\\/_,$%^*()?;；:-【】+\\\"\\']+|[+——！，;:。？、~@#￥%……&*（）]+\", \" \", line)\n",
    "                clean_str = ' '.join([word for word in jieba.lcut(line) \\\n",
    "                                      if word != \" \" and word != \"\\t\" and word not in self.stopwords])\n",
    "                file1.write(clean_str + \"\\n\")\n",
    "                self.corpus.append(clean_str)\n",
    "                count += 1\n",
    "                if count == self.num_docs_used: break\n",
    "            file1.close()\n",
    "        return self.corpus\n",
    "\n",
    "    def get_text_tfidf_matrix(self, corpus):\n",
    "        \"\"\"\n",
    "        获取tfidf矩阵\n",
    "        :param corpus:\n",
    "        :return:\n",
    "        \"\"\"\n",
    "        \n",
    "        self.vectorizer.fit(corpus)\n",
    "        vectorized_corpus = self.vectorizer.transform(corpus)\n",
    "        self.transformer.fit(vectorized_corpus)\n",
    "        tfidf = self.transformer.transform(vectorized_corpus)\n",
    "#         tfidf = self.transformer.fit_transform(self.vectorizer.fit_transform(corpus))\n",
    "\n",
    "        # 获取词袋中所有词语\n",
    "#         self.words = self.vectorizer.get_feature_names()\n",
    "\n",
    "        # 获取tfidf矩阵中权重\n",
    "        weights = tfidf.toarray()\n",
    "        return weights\n",
    "\n",
    "    def pca(self, weights, n_components=5):\n",
    "        \"\"\"\n",
    "        PCA对数据进行降维\n",
    "        :param weights:\n",
    "        :param n_components:\n",
    "        :return:\n",
    "        \"\"\"\n",
    "        self.pca_trans = PCA(n_components=n_components)\n",
    "        self.pca_trans.fit(weights)\n",
    "        return self.pca_trans.transform(weights)\n",
    "    \n",
    "    def export_result(self):\n",
    "        #输出结果\n",
    "        with open(self.corpus_path, 'r', encoding='utf-8') as f:\n",
    "            lines = f.readlines()\n",
    "            for cluster, indexes in self.result.items():\n",
    "                file = open('../data/clusters/' + str(cluster) + '.txt', 'w')\n",
    "                for index in indexes:\n",
    "                    file.write(\"document\"+str(index)+\": \" + lines[index] + \"\\n\")\n",
    "                file.close()\n",
    "\n",
    "    def dbscan(self, corpus_path, eps=0.1, min_samples=3, pca_components=5, fig=True):\n",
    "        \"\"\"\n",
    "        DBSCAN：基于密度的文本聚类算法\n",
    "        :param corpus_path: 语料路径，每行一个文本\n",
    "        :param eps: DBSCA中半径参数\n",
    "        :param min_samples: DBSCAN中半径eps内最小样本数目\n",
    "        :param fig: 是否对降维后的样本进行画图显示\n",
    "        :return:\n",
    "        \"\"\"\n",
    "        corpus = self.preprocess_data(corpus_path)\n",
    "        self.weights = self.get_text_tfidf_matrix(corpus)\n",
    "\n",
    "        self.pca_weights = self.pca(self.weights, pca_components)\n",
    "\n",
    "        clf = DBSCAN(eps=eps, min_samples=min_samples)\n",
    "\n",
    "        y = clf.fit_predict(self.pca_weights)\n",
    "\n",
    "        if fig:\n",
    "            plt.scatter(self.pca_weights[:, 0], self.pca_weights[:, 1], c=y)\n",
    "            plt.show()\n",
    "        \n",
    "        # 保存参数\n",
    "        with open('../data/Transformer/CountVecTransformer.pkl', 'wb') as fp:\n",
    "            pickle.dump(self.vectorizer, fp)\n",
    "        with open('../data/Transformer/TfidfTransformer.pkl', 'wb') as fp:\n",
    "            pickle.dump(self.transformer, fp)\n",
    "        with open('../data/Transformer/PCATransformer.pkl', 'wb') as fp:\n",
    "            pickle.dump(self.pca_trans, fp)\n",
    "\n",
    "        # 每个样本所属的簇\n",
    "        self.labels = [0] * self.num_docs_used\n",
    "        for text_idx, label_idx in enumerate(y):\n",
    "            if label_idx not in self.result:\n",
    "                self.result[label_idx] = [text_idx]\n",
    "            else:\n",
    "                self.result[label_idx].append(text_idx)\n",
    "        #分类标签：异常为0，其余为1\n",
    "            if label_idx != -1:\n",
    "                self.labels[text_idx] = 1\n",
    "        return self.result"
   ]
  },
  {
   "cell_type": "code",
   "execution_count": 8,
   "metadata": {},
   "outputs": [
    {
     "data": {
      "image/png": "[encoded data removed]",
      "text/plain": [
       "<Figure size 432x288 with 1 Axes>"
      ]
     },
     "metadata": {
      "needs_background": "light"
     },
     "output_type": "display_data"
    },
    {
     "name": "stdout",
     "output_type": "stream",
     "text": [
      "{0: [0, 1, 2, 3, 4, 5, 7, 8, 9, 10, 12, 14, 15, 16, 19, 20, 21, 22, 23, 24, 25, 26, 27, 28, 29, 30, 31, 32, 33, 34, 35, 36, 37, 38, 39, 40, 41, 42, 44, 45, 46, 47, 48, 49, 50, 51, 52, 53, 54, 55, 56, 57, 58, 59, 60, 61, 63, 64, 65, 66, 68, 69, 70, 71, 72, 73, 74, 75, 76, 77, 78, 79, 80, 81, 82, 83, 84, 85, 86, 87, 88, 89, 90, 91, 92, 93, 95, 96, 97, 98, 99, 100, 101, 102, 103, 104, 106, 107, 108, 109, 110, 112, 113, 114, 115, 116, 117, 118, 119, 120, 121, 122, 123, 124, 125, 126, 127, 128, 129, 130, 131, 132, 133, 134, 135, 136, 137, 138, 139, 140, 141, 142, 143, 144, 145, 146, 148, 149, 150, 151, 152, 153, 155, 156, 157, 158, 159, 160, 161, 162, 163, 164, 165, 166, 167, 168, 169, 170, 171, 172, 173, 175, 176, 177, 179, 180, 183, 184, 185, 186, 187, 188, 189, 190, 191, 192, 193, 194, 195, 196, 197, 198, 199, 200, 201, 202, 203, 204, 205, 208, 209, 210, 211, 212, 213, 214, 215, 216, 217, 218, 219, 220, 221, 222, 223, 224, 225, 226, 227, 228, 229, 230, 231, 232, 233, 234, 235, 236, 237, 238, 239, 240, 241, 242, 243, 244, 245, 246, 247, 248, 250, 251, 252, 255, 256, 257, 258, 259, 260, 261, 262, 263, 265, 266, 267, 268, 269, 271, 272, 274, 275, 276, 278, 279, 281, 283, 284, 285, 286, 287, 288, 289, 290, 291, 292, 293, 294, 295, 296, 297, 298, 299, 300, 301, 302, 303, 304, 305, 307, 309, 310, 311, 312, 313, 315, 316, 317, 318, 319, 320, 321, 322, 323, 324, 325, 327, 328, 330, 331, 332, 333, 335, 337, 338, 339, 341, 342, 343, 344, 345, 346, 347, 348, 349, 350, 351, 352, 353, 354, 355, 356, 357, 358, 359, 360, 361, 362, 363, 364, 365, 366, 368, 369, 370, 371, 372, 373, 374, 375, 376, 377, 378, 379, 380, 381, 382, 383, 384, 385, 386, 387, 388, 389, 390, 392, 393, 394, 395, 396, 397, 398, 399, 400, 401, 402, 403, 404, 405, 406, 407, 408, 409, 410, 411, 412, 413, 414, 415, 416, 417, 418, 419, 421, 422, 424, 425, 426, 427, 428, 429, 430, 431, 432, 433, 434, 435, 437, 438, 439, 440, 441, 442, 444, 445, 446, 447, 448, 449, 450, 451, 452, 453, 454, 455, 456, 457, 458, 459, 460, 461, 462, 463, 464, 465, 466, 467, 468, 469, 470, 471, 472, 473, 474, 475, 476, 477, 478, 479, 480, 481, 482, 483, 484, 485, 486, 487, 488, 489, 490, 491, 492, 493, 494, 495, 496, 498, 499, 500, 501, 502, 503, 504, 506, 507, 508, 509, 510, 512, 513, 514, 517, 518, 519, 521, 523, 524, 525, 527, 528, 530, 531, 532, 533, 534, 535, 536, 537, 538, 539, 540, 541, 542, 543, 544, 545, 546, 547, 548, 549, 550, 551, 552, 554, 555, 556, 557, 558, 559, 560, 561, 562, 563, 565, 566, 567, 568, 569, 570, 571, 572, 573, 574, 575, 576, 577, 578, 579, 581, 582, 583, 584, 585, 586, 587, 588, 589, 590, 591, 593, 594, 595, 596, 597, 598, 599, 600, 601, 602, 603, 604, 605, 606, 607, 608, 609, 611, 612, 613, 614, 615, 616, 617, 618, 619, 620, 621, 622, 623, 624, 625, 626, 627, 628, 629, 630, 631, 632, 633, 634, 636, 637, 640, 641, 642, 644, 647, 648, 650, 652, 654, 655, 656, 657, 658, 659, 660, 661, 662, 663, 664, 665, 667, 668, 669, 670, 671, 673, 674, 675, 676, 677, 678, 679, 680, 681, 682, 683, 684, 685, 686, 687, 688, 689, 690, 691, 692, 693, 694, 695, 696, 697, 701, 702, 703, 704, 716, 719, 720, 721, 723, 726, 727, 728, 729, 730, 731, 732, 733, 734, 735, 736, 737, 738, 739, 740, 741, 742, 743, 744, 745, 746, 747, 749, 750, 752, 753, 755, 756, 757, 758, 759, 760, 761, 762, 763, 764, 765, 766, 767, 768, 769, 771, 772, 773, 774, 775, 776, 777, 778, 779, 780, 781, 782, 784, 785, 786, 787, 789, 791, 792, 793, 794, 795, 796, 797, 798, 799, 800, 801, 803, 804, 805, 806, 807, 808, 811, 812, 813, 814, 815, 816, 817, 818, 819, 820, 821, 822, 823, 824, 825, 826, 827, 828, 829, 831, 832, 833, 834, 835, 836, 837, 838, 839, 840, 841, 842, 843, 844, 845, 846, 847, 848, 849, 850, 851, 852, 853, 854, 855, 856, 857, 858, 859, 860, 861, 862, 863, 864, 865, 866, 868, 869, 870, 871, 872, 873, 874, 875, 876, 877, 878, 879, 880, 881, 883, 884, 885, 886, 887, 888, 889, 891, 892, 893, 894, 896, 897, 899, 900, 901, 902, 903, 904, 906, 907, 908, 911, 912, 913, 914, 917, 918, 919, 920, 921, 922, 923, 924, 925, 926, 927, 928, 929, 930, 931, 932, 933, 934, 935, 936, 937, 938, 939, 940, 941, 942, 943, 945, 946, 947, 948, 949, 950, 951, 952, 953, 954, 955, 956, 958, 959, 960, 961, 962, 963, 964, 965, 966, 967, 969, 970, 971, 972, 973, 974, 975, 976, 977, 978, 980, 981, 982, 983, 984, 986, 987, 988, 989, 990, 991, 992, 993, 994, 995, 996, 997, 998, 999, 1000, 1001, 1002, 1003, 1004, 1005, 1006, 1007, 1008, 1010, 1012, 1013, 1014, 1015, 1016, 1017, 1018, 1019, 1020, 1021, 1022, 1023, 1024, 1025, 1026, 1027, 1028, 1029, 1030, 1031, 1032, 1033, 1034, 1036, 1037, 1038, 1039, 1040, 1041, 1042, 1043, 1044, 1045, 1046, 1047, 1048, 1049, 1050, 1051, 1052, 1053, 1054, 1055, 1056, 1057, 1058, 1060, 1061, 1062, 1063, 1064, 1065, 1066, 1067, 1069, 1071, 1072, 1073, 1075, 1076, 1077, 1078, 1079, 1080, 1081, 1082, 1083, 1085, 1086, 1087, 1088, 1090, 1091, 1092, 1093, 1095, 1096, 1097, 1098, 1101, 1103, 1106, 1108, 1111, 1113, 1114, 1115, 1116, 1118, 1119, 1120, 1121, 1122, 1124, 1125, 1126, 1127, 1128, 1131, 1132, 1133, 1134, 1137, 1138, 1139, 1141, 1143, 1144, 1145, 1146, 1148, 1150, 1151, 1152, 1153, 1154, 1155, 1156, 1157, 1158, 1159, 1160, 1161, 1162, 1164, 1166, 1167, 1168, 1169, 1170, 1171, 1172, 1173, 1174, 1175, 1176, 1177, 1178, 1179, 1180, 1181, 1182, 1183, 1184, 1186, 1187, 1190, 1191, 1192, 1194, 1195, 1196, 1197, 1198, 1199, 1200, 1201, 1202, 1203, 1204, 1205, 1206, 1207, 1209, 1210, 1211, 1212, 1213, 1214, 1215, 1216, 1217, 1218, 1219, 1220, 1221, 1223, 1224, 1225, 1226, 1227, 1228, 1229, 1230, 1231, 1232, 1233, 1234, 1235, 1236, 1237, 1238, 1240, 1241, 1242, 1244, 1246, 1247, 1248, 1249, 1250, 1252, 1253, 1255, 1256, 1258, 1259, 1263, 1264, 1265, 1266, 1267, 1270, 1271, 1272, 1273, 1274, 1276, 1278, 1279, 1280, 1282, 1283, 1284, 1285, 1286, 1287, 1288, 1289, 1290, 1291, 1292, 1293, 1294, 1295, 1296, 1297, 1298, 1299, 1300, 1301, 1302, 1303, 1304, 1306, 1307, 1308, 1311, 1312, 1313, 1314, 1315, 1316, 1317, 1318, 1319, 1320, 1321, 1322, 1323, 1324, 1325, 1326, 1327, 1328, 1329, 1330, 1331, 1332, 1333, 1334, 1335, 1336, 1337, 1338, 1339, 1340, 1341, 1342, 1343, 1345, 1346, 1347, 1348, 1349, 1350, 1351, 1352, 1353, 1354, 1355, 1356, 1357, 1358, 1359, 1360, 1361, 1362, 1363, 1364, 1366, 1367, 1368, 1369, 1370, 1371, 1372, 1373, 1374, 1375, 1376, 1377, 1378, 1379, 1380, 1381, 1382, 1383, 1384, 1385, 1386, 1387, 1388, 1389, 1391, 1392, 1393, 1394, 1395, 1397, 1399, 1400, 1401, 1402, 1403, 1405, 1406, 1407, 1408, 1409, 1410, 1411, 1412, 1413, 1414, 1415, 1416, 1417, 1418, 1419, 1421, 1422, 1424, 1425, 1428, 1429, 1430, 1431, 1432, 1433, 1434, 1435, 1437, 1438, 1439, 1440, 1441, 1442, 1443, 1444, 1445, 1446, 1447, 1448, 1450, 1451, 1452, 1453, 1454, 1455, 1456, 1457, 1458, 1459, 1460, 1461, 1462, 1463, 1464, 1465, 1466, 1467, 1468, 1469, 1470, 1471, 1472, 1473, 1474, 1475, 1476, 1478, 1479, 1480, 1481, 1482, 1484, 1485, 1488, 1489, 1491, 1495, 1497, 1498, 1499, 1500, 1501, 1502, 1503, 1504, 1505, 1506, 1507, 1508, 1509, 1510, 1511, 1512, 1513, 1514, 1516, 1517, 1518, 1519, 1520, 1522, 1523, 1524, 1526, 1528, 1529, 1531, 1532, 1533, 1535, 1536, 1539, 1540, 1543, 1544, 1545, 1546, 1548, 1549, 1550, 1551, 1552, 1553, 1554, 1555, 1556, 1557, 1558, 1559, 1562, 1563, 1564, 1565, 1566, 1567, 1568, 1569, 1570, 1571, 1572, 1573, 1574, 1575, 1576, 1577, 1579, 1580, 1581, 1582, 1583, 1584, 1585, 1587, 1588, 1589, 1592, 1594, 1596, 1597, 1598, 1599, 1601, 1602, 1603, 1605, 1606, 1607, 1608, 1609, 1610, 1611, 1612, 1613, 1614, 1615, 1616, 1617, 1618, 1619, 1621, 1622, 1623, 1624, 1625, 1626, 1627, 1628, 1629, 1630, 1631, 1632, 1634, 1635, 1636, 1637, 1638, 1639, 1640, 1641, 1642, 1643, 1645, 1646, 1647, 1648, 1649, 1650, 1651, 1653, 1654, 1655, 1656, 1657, 1659, 1660, 1661, 1662, 1663, 1664, 1665, 1666, 1667, 1668, 1669, 1670, 1671, 1674, 1675, 1676, 1677, 1678, 1679, 1680, 1681, 1682, 1683, 1684, 1685, 1686, 1688, 1690, 1691, 1692, 1693, 1694, 1695, 1696, 1697, 1698, 1699, 1700, 1701, 1705, 1707, 1709, 1710, 1714, 1715, 1716, 1717, 1718, 1719, 1720, 1722, 1723, 1726, 1727, 1728, 1729, 1730, 1732, 1733, 1734, 1735, 1737, 1738, 1739, 1740, 1741, 1742, 1743, 1744, 1745, 1746, 1747, 1750, 1751, 1752, 1754, 1755, 1757, 1758, 1759, 1760, 1761, 1762, 1763, 1764, 1765, 1766, 1767, 1769, 1770, 1771, 1772, 1774, 1775, 1777, 1778, 1780, 1781, 1782, 1783, 1785, 1787, 1788, 1790, 1791, 1792, 1793, 1795, 1796, 1797, 1798, 1799, 1800, 1801, 1802, 1803, 1804, 1805, 1806, 1810, 1811, 1812, 1813, 1814, 1817, 1818, 1819, 1820, 1821, 1822, 1823, 1826, 1827, 1829, 1830, 1831, 1833, 1834, 1835, 1836, 1837, 1838, 1839, 1840, 1841, 1842, 1843, 1844, 1845, 1846, 1847, 1849, 1850, 1851, 1852, 1853, 1854, 1855, 1856, 1857, 1858, 1859, 1860, 1861, 1862, 1863, 1865, 1866, 1867, 1868, 1869, 1870, 1871, 1872, 1873, 1874, 1875, 1876, 1877, 1878, 1879, 1880, 1881, 1883, 1884, 1885, 1890, 1891, 1892, 1893, 1894, 1895, 1896, 1897, 1898, 1899, 1901, 1902, 1903, 1904, 1905, 1906, 1907, 1909, 1912, 1913, 1916, 1918, 1920, 1923, 1925, 1928, 1929, 1931, 1932, 1933, 1934, 1935, 1936, 1937, 1938, 1939, 1940, 1941, 1943, 1946, 1947, 1948, 1949, 1950, 1951, 1952, 1953, 1954, 1955, 1956, 1957, 1958, 1959, 1960, 1961, 1963, 1964, 1965, 1966, 1967, 1968, 1969, 1970, 1971, 1972, 1973, 1974, 1975, 1976, 1977, 1978, 1979, 1981, 1982, 1983, 1985, 1986, 1989, 1990, 1992, 1993, 1994, 1995, 1996, 1997, 1998, 1999, 2000, 2001, 2002, 2003, 2004, 2005, 2006, 2008, 2009, 2010, 2011, 2012, 2013, 2014, 2015, 2016, 2017, 2018, 2019, 2020, 2021, 2022, 2023, 2024, 2025, 2026, 2027, 2028, 2029, 2030, 2031, 2032, 2033, 2034, 2035, 2036, 2037, 2038, 2039, 2040, 2041, 2043, 2044, 2045, 2046, 2047, 2048, 2049, 2050, 2051, 2052, 2053, 2054, 2055, 2056, 2057, 2058, 2059, 2060, 2061, 2062, 2063, 2064, 2065, 2066, 2067, 2068, 2069, 2070, 2071, 2072, 2073, 2074, 2075, 2076, 2077, 2078, 2079, 2080, 2081, 2082, 2084, 2085, 2086, 2087, 2088, 2090, 2091, 2092, 2093, 2094, 2096, 2097, 2098, 2101, 2103, 2104, 2105, 2106, 2107, 2108, 2109, 2110, 2111, 2112, 2113, 2114, 2116, 2117, 2118, 2119, 2120, 2121, 2122, 2123, 2124, 2125, 2126, 2127, 2128, 2130, 2131, 2132, 2134, 2135, 2136, 2137, 2138, 2139, 2140, 2141, 2142, 2143, 2144, 2145, 2146, 2147, 2148, 2149, 2150, 2151, 2152, 2153, 2154, 2155, 2156, 2157, 2158, 2159, 2160, 2161, 2162, 2164, 2165, 2166, 2167, 2168, 2169, 2170, 2171, 2172, 2173, 2174, 2175, 2177, 2178, 2179, 2180, 2181, 2182, 2183, 2184, 2185, 2186, 2188, 2189, 2190, 2191, 2192, 2193, 2194, 2195, 2196, 2197, 2198, 2199, 2200, 2201, 2203, 2204, 2205, 2206, 2207, 2208, 2209, 2210, 2211, 2212, 2214, 2215, 2216, 2217, 2218, 2219, 2220, 2221, 2222, 2223, 2224, 2225, 2226, 2227, 2228, 2229, 2230, 2231, 2232, 2233, 2234, 2237, 2238, 2240, 2241, 2242, 2243, 2244, 2247, 2248, 2249, 2250, 2252, 2253, 2254, 2255, 2256, 2257, 2258, 2259, 2260, 2261, 2262, 2263, 2264, 2265, 2266, 2267, 2268, 2269, 2270, 2271, 2272, 2273, 2274, 2275, 2276, 2277, 2278, 2279, 2280, 2281, 2282, 2283, 2284, 2285, 2286, 2287, 2288, 2289, 2290, 2291, 2292, 2293, 2294, 2295, 2296, 2297, 2298, 2299, 2300, 2301, 2302, 2303, 2304, 2305, 2306, 2307, 2308, 2309, 2310, 2311, 2312, 2313, 2314, 2315, 2316, 2317, 2318, 2319, 2320, 2321, 2323, 2324, 2325, 2326, 2327, 2328, 2329, 2330, 2331, 2332, 2333, 2334, 2335, 2336, 2337, 2338, 2339, 2340, 2341, 2342, 2343, 2344, 2346, 2347, 2348, 2349, 2350, 2351, 2352, 2353, 2354, 2355, 2356, 2357, 2358, 2359, 2360, 2361, 2362, 2363, 2364, 2365, 2366, 2367, 2368, 2369, 2370, 2371, 2372, 2373, 2374, 2375, 2376, 2377, 2378, 2379, 2381, 2382, 2383, 2384, 2385, 2386, 2387, 2388, 2389, 2390, 2391, 2392, 2393, 2394, 2395, 2397, 2398, 2399, 2400, 2401, 2402, 2403, 2404, 2405, 2406, 2407, 2408, 2409, 2410, 2411, 2412, 2413, 2414, 2415, 2416, 2417, 2418, 2419, 2420, 2421, 2422, 2423, 2424, 2425, 2426, 2427, 2428, 2429, 2430, 2431, 2432, 2434, 2435, 2436, 2437, 2438, 2439, 2440, 2441, 2442, 2443, 2445, 2446, 2447, 2448, 2449, 2450, 2451, 2452, 2453, 2454, 2455, 2456, 2457, 2458, 2460, 2461, 2462, 2463, 2464, 2465, 2466, 2467, 2468, 2469, 2470, 2471, 2472, 2473, 2475, 2476, 2477, 2478, 2479, 2480, 2481, 2482, 2483, 2484, 2485, 2486, 2487, 2488, 2490, 2491, 2492, 2493, 2494, 2495, 2496, 2497, 2498, 2500, 2503, 2504, 2507, 2509, 2511, 2512, 2513, 2514, 2515, 2517, 2520, 2522, 2524, 2526, 2527, 2528, 2529, 2531, 2532, 2533, 2534, 2535, 2536, 2537, 2538, 2539, 2540, 2541, 2544, 2545, 2547, 2553, 2554, 2555, 2556, 2557, 2559, 2560, 2562, 2563, 2564, 2565, 2566, 2567, 2568, 2569, 2570, 2571, 2572, 2573, 2574, 2575, 2577, 2578, 2580, 2581, 2582, 2583, 2585, 2587, 2588, 2590, 2591, 2592, 2593, 2594, 2595, 2596, 2597, 2598, 2599, 2600, 2601, 2602, 2603, 2604, 2606, 2607, 2608, 2609, 2610, 2611, 2612, 2614, 2615, 2616, 2617, 2619, 2620, 2621, 2622, 2623, 2624, 2625, 2626, 2627, 2628, 2629, 2630, 2632, 2633, 2634, 2635, 2636, 2638, 2639, 2640, 2641, 2642, 2643, 2644, 2645, 2646, 2647, 2648, 2649, 2650, 2651, 2652, 2653, 2654, 2655, 2658, 2659, 2660, 2661, 2662, 2663, 2664, 2665, 2666, 2667, 2668, 2669, 2670, 2671, 2672, 2673, 2674, 2675, 2676, 2677, 2678, 2679, 2680, 2681, 2682, 2683, 2684, 2686, 2687, 2688, 2689, 2690, 2692, 2694, 2695, 2696, 2697, 2698, 2699, 2700, 2701, 2702, 2703, 2704, 2705, 2706, 2708, 2709, 2711, 2712, 2713, 2714, 2715, 2716, 2717, 2718, 2719, 2720, 2721, 2722, 2723, 2724, 2725, 2726, 2727, 2728, 2729, 2730, 2731, 2732, 2733, 2734, 2735, 2736, 2738, 2739, 2740, 2741, 2742, 2743, 2744, 2745, 2746, 2747, 2748, 2749, 2750, 2751, 2752, 2753, 2756, 2757, 2759, 2761, 2762, 2764, 2765, 2766, 2767, 2768, 2769, 2770, 2771, 2772, 2773, 2774, 2775, 2776, 2777, 2778, 2779, 2781, 2782, 2783, 2786, 2787, 2788, 2789, 2791, 2793, 2794, 2795, 2796, 2797, 2798, 2799, 2800, 2801, 2802, 2803, 2804, 2805, 2806, 2807, 2808, 2809, 2810, 2811, 2812, 2813, 2814, 2815, 2816, 2817, 2819, 2820, 2821, 2822, 2823, 2824, 2825, 2826, 2827, 2828, 2829, 2832, 2833, 2834, 2835, 2836, 2838, 2839, 2840, 2841, 2843, 2844, 2845, 2846, 2847, 2848, 2850, 2851, 2852, 2854, 2855, 2856, 2857, 2858, 2859, 2860, 2862, 2863, 2864, 2866, 2867, 2869, 2870, 2872, 2873, 2875, 2877, 2878, 2879, 2880, 2882, 2883, 2884, 2885, 2886, 2888, 2890, 2891, 2892, 2894, 2895, 2896, 2897, 2900, 2901, 2902, 2903, 2904, 2905, 2906, 2907, 2908, 2909, 2910, 2911, 2912, 2913, 2914, 2915, 2916, 2917, 2918, 2919, 2920, 2921, 2922, 2923, 2924, 2925, 2926, 2928, 2929, 2930, 2931, 2932, 2933, 2934, 2935, 2937, 2938, 2940, 2941, 2942, 2944, 2946, 2948, 2949, 2950, 2951, 2953, 2954, 2955, 2956, 2957, 2958, 2959, 2960, 2961, 2963, 2964, 2965, 2966, 2967, 2968, 2969, 2970, 2971, 2972, 2973, 2974, 2975, 2976, 2977, 2979, 2980, 2981, 2982, 2983, 2984, 2985, 2987, 2988, 2989, 2991, 2992, 2993, 2995, 2997, 2998, 3001, 3002, 3003, 3004, 3005, 3006, 3007, 3008, 3009, 3010, 3011, 3012, 3013, 3014, 3015, 3016, 3017, 3018, 3020, 3021, 3022, 3023, 3024, 3025, 3026, 3027, 3028, 3029, 3030, 3031, 3032, 3035, 3036, 3038, 3039, 3040, 3041, 3042, 3043, 3044, 3045, 3047, 3048, 3049, 3050, 3051, 3052, 3053, 3054, 3055, 3056, 3057, 3058, 3060, 3061, 3063, 3065, 3067, 3068, 3069, 3070, 3071, 3072, 3075, 3077, 3078, 3079, 3080, 3081, 3082, 3083, 3084, 3085, 3086, 3088, 3089, 3091, 3092, 3093, 3094, 3095, 3096, 3097, 3098, 3099, 3101, 3102, 3103, 3104, 3105, 3106, 3107, 3108, 3109, 3110, 3111, 3112, 3113, 3116, 3117, 3118, 3119, 3120, 3121, 3123, 3124, 3125, 3126, 3127, 3128, 3129, 3130, 3131, 3132, 3133, 3134, 3135, 3137, 3138, 3139, 3140, 3141, 3142, 3143, 3144, 3145, 3146, 3147, 3148, 3149, 3150, 3152, 3154, 3155, 3156, 3157, 3158, 3159, 3160, 3161, 3162, 3163, 3164, 3166, 3167, 3168, 3169, 3170, 3171, 3173, 3175, 3176, 3177, 3178, 3179, 3180, 3181, 3182, 3183, 3184, 3185, 3186, 3187, 3188, 3189, 3190, 3191, 3192, 3194, 3195, 3196, 3197, 3198, 3199, 3200, 3201, 3202, 3203, 3204, 3206, 3208, 3209, 3212, 3213, 3214, 3215, 3217, 3218, 3219, 3220, 3221, 3222, 3223, 3224, 3225, 3226, 3227, 3228, 3229, 3230, 3231, 3232, 3233, 3234, 3235, 3237, 3238, 3239, 3240, 3241, 3242, 3243, 3244, 3245, 3246, 3247, 3248, 3249, 3250, 3251, 3252, 3253, 3254, 3256, 3257, 3259, 3260, 3261, 3262, 3263, 3264, 3265, 3266, 3268, 3272, 3273, 3277, 3278, 3279, 3283, 3286, 3287, 3290, 3291, 3294, 3296, 3297, 3298, 3299, 3300, 3301, 3302, 3303, 3306, 3307, 3308, 3309, 3310, 3311, 3312, 3313, 3314, 3316, 3317, 3318, 3319, 3320, 3321, 3323, 3324, 3325, 3326, 3329, 3331, 3332, 3333, 3334, 3335, 3336, 3337, 3338, 3339, 3340, 3341, 3342, 3343, 3344, 3345, 3347, 3348, 3350, 3351, 3352, 3353, 3354, 3355, 3357, 3358, 3360, 3362, 3363, 3366, 3369, 3370, 3379, 3380, 3381, 3382, 3383, 3384, 3385, 3386, 3388, 3389, 3390, 3392, 3395, 3396, 3398, 3399, 3400, 3401, 3402, 3403, 3404, 3405, 3406, 3407, 3408, 3410, 3412, 3413, 3414, 3415, 3416, 3417, 3418, 3419, 3420, 3423, 3424, 3425, 3426, 3428, 3429, 3430, 3431, 3432, 3434, 3435, 3436, 3437, 3438, 3440, 3441, 3442, 3443, 3445, 3446, 3447, 3448, 3449, 3450, 3451, 3452, 3453, 3454, 3455, 3456, 3457, 3458, 3459, 3460, 3461, 3462, 3463, 3464, 3466, 3468, 3469, 3470, 3471, 3472, 3474, 3475, 3476, 3478, 3479, 3480, 3481, 3482, 3483, 3484, 3490, 3491, 3492, 3493, 3494, 3495, 3496, 3497, 3498, 3499, 3500, 3501, 3502, 3503, 3504, 3505, 3506, 3507, 3508, 3509, 3510, 3513, 3515, 3516, 3517, 3518, 3519, 3520, 3521, 3522, 3523, 3525, 3526, 3527, 3528, 3529, 3530, 3531, 3532, 3533, 3534, 3535, 3536, 3537, 3538, 3539, 3540, 3541, 3542, 3543, 3544, 3545, 3546, 3548, 3549, 3550, 3551, 3553, 3554, 3555, 3556, 3557, 3558, 3559, 3561, 3562, 3563, 3564, 3565, 3566, 3567, 3568, 3569, 3572, 3573, 3574, 3575, 3576, 3577, 3578, 3580, 3581, 3582, 3584, 3585, 3586, 3587, 3588, 3590, 3592, 3593, 3594, 3595, 3596, 3597, 3598, 3600, 3602, 3603, 3604, 3605, 3607, 3608, 3609, 3610, 3611, 3612, 3613, 3614, 3615, 3617, 3618, 3620, 3621, 3622, 3623, 3624, 3625, 3626, 3627, 3628, 3629, 3630, 3631, 3632, 3633, 3634, 3635, 3637, 3638, 3639, 3640, 3641, 3642, 3644, 3645, 3646, 3647, 3648, 3649, 3650, 3651, 3653, 3654, 3655, 3656, 3657, 3658, 3659, 3661, 3663, 3664, 3665, 3666, 3667, 3669, 3670, 3671, 3672, 3673, 3674, 3675, 3676, 3677, 3678, 3679, 3680, 3681, 3682, 3683, 3684, 3685, 3686, 3687, 3688, 3689, 3690, 3691, 3692, 3693, 3695, 3696, 3697, 3698, 3699, 3700, 3701, 3702, 3703, 3704, 3705, 3706, 3707, 3708, 3709, 3711, 3712, 3713, 3714, 3715, 3716, 3717, 3718, 3719, 3720, 3722, 3723, 3724, 3726, 3727, 3728, 3729, 3730, 3731, 3732, 3735, 3738, 3739, 3741, 3742, 3743, 3744, 3745, 3746, 3747, 3748, 3750, 3752, 3753, 3754, 3755, 3756, 3757, 3758, 3759, 3760, 3761, 3762, 3763, 3765, 3766, 3768, 3769, 3770, 3771, 3772, 3773, 3774, 3775, 3776, 3777, 3778, 3780, 3781, 3782, 3783, 3784, 3785, 3786, 3787, 3788, 3790, 3791, 3792, 3793, 3794, 3795, 3796, 3797, 3799, 3800, 3801, 3803, 3804, 3805, 3806, 3807, 3808, 3809, 3810, 3812, 3813, 3814, 3815, 3816, 3817, 3818, 3819, 3820, 3824, 3826, 3827, 3828, 3829, 3830, 3831, 3833, 3834, 3835, 3836, 3837, 3838, 3839, 3840, 3842, 3843, 3844, 3846, 3847, 3848, 3850, 3851, 3852, 3853, 3854, 3855, 3856, 3857, 3858, 3859, 3860, 3861, 3862, 3864, 3865, 3866, 3867, 3868, 3869, 3871, 3872, 3873, 3874, 3876, 3877, 3878, 3879, 3880, 3881, 3882, 3884, 3886, 3887, 3888, 3889, 3890, 3891, 3892, 3893, 3894, 3895, 3896, 3898, 3899, 3900, 3902, 3903, 3904, 3905, 3906, 3907, 3908, 3909, 3910, 3911, 3912, 3913, 3914, 3915, 3916, 3917, 3918, 3920, 3923, 3924, 3925, 3926, 3927, 3928, 3929, 3930, 3931, 3932, 3933, 3934, 3935, 3937, 3938, 3939, 3940, 3941, 3942, 3943, 3944, 3945, 3946, 3947, 3948, 3949, 3950, 3951, 3952, 3953, 3954, 3957, 3958, 3959, 3961, 3962, 3963, 3965, 3966, 3967, 3968, 3969, 3970, 3971, 3972, 3973, 3974, 3975, 3976, 3977, 3978, 3979, 3981, 3982, 3983, 3984, 3985, 3986, 3987, 3988, 3989, 3990, 3991, 3992, 3993, 3995, 3996, 3997, 3998, 3999, 4000, 4001, 4002, 4003, 4004, 4005, 4007, 4008, 4009, 4010, 4011, 4012, 4013, 4014, 4015, 4016, 4017, 4018, 4019, 4020, 4021, 4024, 4026, 4027, 4028, 4029, 4030, 4032, 4033, 4034, 4035, 4036, 4037, 4038, 4039, 4040, 4041, 4042, 4043, 4044, 4045, 4046, 4047, 4048, 4049, 4050, 4051, 4052, 4053, 4055, 4056, 4057, 4058, 4059, 4060, 4061, 4062, 4064, 4065, 4066, 4067, 4068, 4069, 4070, 4071, 4072, 4073, 4074, 4075, 4076, 4077, 4079, 4080, 4081, 4082, 4083, 4084, 4085, 4086, 4087, 4088, 4089, 4090, 4092, 4093, 4094, 4095, 4096, 4097, 4098, 4099, 4100, 4101, 4102, 4103, 4104, 4105, 4106, 4107, 4108, 4109, 4110, 4111, 4112, 4113, 4114, 4116, 4117, 4118, 4121, 4122, 4123, 4124, 4125, 4126, 4127, 4128, 4129, 4130, 4131, 4132, 4133, 4134, 4135, 4136, 4137, 4138, 4139, 4140, 4142, 4144, 4145, 4146, 4148, 4149, 4150, 4152, 4153, 4154, 4155, 4156, 4157, 4158, 4159, 4160, 4162, 4163, 4164, 4165, 4166, 4167, 4168, 4169, 4170, 4171, 4172, 4174, 4176, 4177, 4178, 4179, 4181, 4182, 4183, 4184, 4186, 4187, 4188, 4189, 4190, 4191, 4192, 4193, 4194, 4195, 4196, 4197, 4198, 4199, 4201, 4202, 4204, 4205, 4206, 4207, 4208, 4209, 4210, 4211, 4212, 4213, 4214, 4215, 4216, 4217, 4218, 4219, 4220, 4222, 4223, 4224, 4225, 4226, 4227, 4228, 4229, 4230, 4232, 4233, 4234, 4235, 4236, 4237, 4238, 4239, 4240, 4241, 4242, 4244, 4245, 4246, 4247, 4248, 4250, 4251, 4252, 4253, 4255, 4257, 4258, 4259, 4260, 4261, 4262, 4263, 4264, 4265, 4266, 4267, 4269, 4270, 4271, 4272, 4273, 4275, 4278, 4279, 4280, 4284, 4285, 4286, 4287, 4288, 4289, 4290, 4292, 4293, 4294, 4295, 4296, 4297, 4299, 4300, 4301, 4302, 4303, 4304, 4305, 4306, 4307, 4308, 4309, 4310, 4311, 4312, 4314, 4317, 4318, 4319, 4320, 4321, 4322, 4323, 4324, 4325, 4326, 4327, 4328, 4329, 4330, 4331, 4332, 4333, 4334, 4335, 4336, 4337, 4338, 4339, 4340, 4342, 4343, 4344, 4345, 4346, 4348, 4349, 4350, 4352, 4354, 4356, 4358, 4359, 4360, 4361, 4362, 4363, 4365, 4366, 4367, 4368, 4369, 4370, 4371, 4372, 4373, 4376, 4377, 4378, 4379, 4380, 4381, 4382, 4384, 4385, 4386, 4387, 4388, 4389, 4390, 4391, 4392, 4393, 4394, 4396, 4397, 4398, 4399, 4400, 4401, 4402, 4403, 4404, 4406, 4407, 4408, 4409, 4410, 4411, 4413, 4414, 4415, 4416, 4417, 4420, 4422, 4424, 4426, 4427, 4428, 4429, 4430, 4431, 4432, 4433, 4434, 4435, 4436, 4437, 4438, 4439, 4441, 4442, 4443, 4446, 4447, 4449, 4450, 4451, 4452, 4453, 4455, 4456, 4457, 4458, 4459, 4460, 4461, 4462, 4463, 4464, 4466, 4467, 4468, 4470, 4471, 4474, 4475, 4476, 4477, 4478, 4479, 4480, 4481, 4482, 4483, 4484, 4485, 4486, 4488, 4489, 4490, 4491, 4492, 4493, 4494, 4495, 4496, 4497, 4498, 4499, 4500, 4502, 4503, 4504, 4505, 4506, 4507, 4508, 4510, 4511, 4512, 4513, 4514, 4515, 4516, 4517, 4518, 4519, 4520, 4521, 4522, 4523, 4524, 4525, 4526, 4527, 4528, 4530, 4531, 4532, 4533, 4534, 4535, 4536, 4537, 4538, 4539, 4540, 4541, 4542, 4543, 4544, 4545, 4546, 4547, 4548, 4549, 4550, 4551, 4552, 4553, 4554, 4555, 4556, 4557, 4558, 4559, 4560, 4562, 4564, 4565, 4566, 4567, 4568, 4569, 4570, 4572, 4573, 4575, 4576, 4577, 4578, 4579, 4580, 4581, 4582, 4583, 4584, 4585, 4586, 4589, 4590, 4591, 4593, 4597, 4598, 4599, 4600, 4602, 4604, 4605, 4606, 4607, 4608, 4610, 4613, 4614, 4615, 4616, 4617, 4618, 4619, 4620, 4621, 4622, 4623, 4624, 4625, 4626, 4627, 4628, 4630, 4631, 4632, 4633, 4634, 4636, 4637, 4638, 4639, 4640, 4641, 4642, 4645, 4648, 4649, 4651, 4653, 4654, 4655, 4656, 4658, 4659, 4660, 4661, 4664, 4665, 4666, 4667, 4669, 4670, 4671, 4672, 4673, 4674, 4675, 4677, 4678, 4679, 4684, 4685, 4686, 4687, 4690, 4691, 4694, 4695, 4696, 4697, 4698, 4699, 4700, 4701, 4702, 4703, 4704, 4705, 4707, 4709, 4710, 4711, 4714, 4715, 4716, 4717, 4721, 4723, 4724, 4727, 4728, 4729, 4730, 4731, 4732, 4735, 4737, 4738, 4739, 4741, 4744, 4746, 4747, 4748, 4750, 4751, 4752, 4753, 4754, 4755, 4756, 4757, 4758, 4759, 4760, 4761, 4762, 4763, 4764, 4765, 4766, 4767, 4768, 4769, 4770, 4771, 4772, 4773, 4774, 4775, 4776, 4777, 4778, 4779, 4780, 4781, 4782, 4783, 4784, 4785, 4786, 4787, 4788, 4789, 4790, 4791, 4792, 4793, 4794, 4795, 4796, 4797, 4798, 4799, 4800, 4801, 4802, 4803, 4804, 4805, 4806, 4807, 4808, 4810, 4811, 4812, 4813, 4814, 4815, 4816, 4817, 4818, 4819, 4820, 4821, 4822, 4823, 4824, 4825, 4826, 4827, 4828, 4829, 4830, 4831, 4832, 4833, 4834, 4835, 4836, 4837, 4838, 4840, 4843, 4846, 4847, 4848, 4849, 4850, 4851, 4852, 4853, 4854, 4855, 4856, 4857, 4858, 4859, 4860, 4861, 4862, 4863, 4864, 4865, 4866, 4867, 4868, 4870, 4871, 4872, 4873, 4875, 4876, 4877, 4878, 4879, 4880, 4881, 4882, 4883, 4884, 4885, 4887, 4888, 4889, 4890, 4892, 4893, 4894, 4895, 4896, 4898, 4900, 4901, 4902, 4905, 4906, 4907, 4908, 4909, 4911, 4912, 4913, 4914, 4915, 4916, 4917, 4918, 4919, 4920, 4921, 4922, 4923, 4924, 4925, 4926, 4927, 4928, 4929, 4930, 4931, 4932, 4933, 4934, 4936, 4937, 4938, 4939, 4940, 4941, 4942, 4944, 4945, 4946, 4947, 4948, 4949, 4950, 4951, 4952, 4953, 4954, 4955, 4956, 4957, 4960, 4961, 4962, 4963, 4964, 4965, 4966, 4969, 4970, 4971, 4972, 4973, 4975, 4977, 4978, 4979, 4980, 4981, 4983, 4985, 4986, 4987, 4988, 4989, 4991, 4992, 4993, 4994, 4995, 4996, 4997, 4998, 4999, 5000, 5001, 5002, 5003, 5004, 5008, 5009, 5010, 5012, 5015, 5017, 5019, 5020, 5021, 5022, 5024, 5025, 5026, 5027, 5028, 5029, 5030, 5031, 5032, 5033, 5034, 5037, 5039, 5041, 5045, 5048, 5049, 5050, 5051, 5054, 5055, 5056, 5060, 5063, 5064, 5065, 5066, 5067, 5068, 5069, 5070, 5071, 5072, 5073, 5074, 5076, 5077, 5079, 5080, 5081, 5082, 5083, 5084, 5085, 5086, 5087, 5088, 5089, 5090, 5091, 5092, 5093, 5094, 5095, 5096, 5097, 5098, 5099, 5102, 5103, 5104, 5105, 5106, 5107, 5108, 5109, 5110, 5111, 5112, 5113, 5114, 5115, 5116, 5117, 5118, 5119, 5120, 5121, 5122, 5123, 5124, 5126, 5129, 5130, 5132, 5133, 5136, 5137, 5138, 5139, 5140, 5141, 5142, 5143, 5144, 5145, 5146, 5147, 5148, 5149, 5150, 5151, 5152, 5153, 5154, 5155, 5156, 5157, 5158, 5159, 5160, 5161, 5162, 5163, 5164, 5166, 5167, 5168, 5169, 5170, 5172, 5173, 5174, 5175, 5176, 5177, 5178, 5179, 5180, 5181, 5182, 5184, 5185, 5186, 5187, 5188, 5189, 5190, 5191, 5192, 5193, 5194, 5195, 5196, 5197, 5198, 5199, 5200, 5201, 5202, 5203, 5204, 5205, 5207, 5208, 5209, 5210, 5211, 5212, 5213, 5214, 5216, 5217, 5218, 5219, 5220, 5221, 5222, 5223, 5224, 5226, 5227, 5228, 5231, 5232, 5233, 5234, 5235, 5236, 5237, 5238, 5239, 5240, 5241, 5242, 5243, 5244, 5245, 5246, 5247, 5248, 5249, 5250, 5251, 5252, 5254, 5255, 5256, 5257, 5258, 5259, 5260, 5261, 5262, 5263, 5264, 5265, 5266, 5267, 5268, 5269, 5270, 5271, 5272, 5273, 5274, 5275, 5276, 5278, 5279, 5280, 5281, 5282, 5283, 5284, 5285, 5286, 5287, 5288, 5289, 5290, 5291, 5292, 5293, 5294, 5295, 5296, 5297, 5298, 5299, 5300, 5301, 5303, 5304, 5305, 5306, 5307, 5308, 5309, 5312, 5313, 5314, 5315, 5317, 5318, 5319, 5320, 5321, 5322, 5323, 5324, 5325, 5326, 5327, 5328, 5330, 5331, 5332, 5333, 5334, 5336, 5338, 5340, 5341, 5342, 5344, 5345, 5346, 5347, 5350, 5351, 5352, 5353, 5354, 5355, 5356, 5357, 5358, 5359, 5362, 5363, 5364, 5365, 5366, 5367, 5369, 5372, 5373, 5374, 5375, 5377, 5378, 5379, 5380, 5382, 5383, 5384, 5385, 5387, 5388, 5390, 5391, 5392, 5393, 5394, 5395, 5396, 5398, 5399, 5401, 5402, 5403, 5404, 5405, 5406, 5408, 5409, 5410, 5411, 5412, 5413, 5415, 5417, 5418, 5419, 5420, 5421, 5422, 5423, 5424, 5425, 5426, 5427, 5428, 5430, 5432, 5433, 5434, 5435, 5436, 5437, 5438, 5439, 5440, 5442, 5446, 5447, 5448, 5450, 5451, 5454, 5458, 5459, 5460, 5461, 5462, 5464, 5465, 5466, 5467, 5469, 5470, 5472, 5473, 5474, 5475, 5478, 5480, 5482, 5483, 5484, 5485, 5487, 5489, 5490, 5491, 5494, 5498, 5499, 5500, 5502, 5504, 5505, 5508, 5509, 5511, 5512, 5514, 5515, 5516, 5517, 5519, 5520, 5521, 5523, 5524, 5525, 5526, 5528, 5529, 5530, 5532, 5533, 5536, 5537, 5538, 5539, 5540, 5541, 5542, 5544, 5546, 5547, 5548, 5550, 5551, 5554, 5555, 5556, 5559, 5560, 5561, 5562, 5565, 5566, 5567, 5568, 5569, 5570, 5571, 5572, 5573, 5574, 5575, 5577, 5578, 5579, 5580, 5582, 5583, 5584, 5586, 5588, 5589, 5590, 5591, 5592, 5593, 5594, 5595, 5596, 5597, 5599, 5600, 5601, 5602, 5603, 5604, 5605, 5606, 5607, 5608, 5609, 5610, 5611, 5612, 5613, 5614, 5616, 5617, 5618, 5619, 5620, 5621, 5622, 5623, 5624, 5625, 5626, 5627, 5628, 5629, 5631, 5632, 5633, 5634, 5635, 5636, 5637, 5638, 5639, 5640, 5641, 5642, 5643, 5644, 5645, 5646, 5647, 5648, 5649, 5650, 5651, 5652, 5653, 5654, 5655, 5656, 5657, 5658, 5660, 5661, 5662, 5664, 5665, 5666, 5667, 5668, 5670, 5671, 5672, 5673, 5674, 5675, 5676, 5677, 5678, 5679, 5680, 5682, 5683, 5684, 5685, 5686, 5687, 5688, 5689, 5690, 5691, 5692, 5693, 5694, 5695, 5696, 5697, 5698, 5700, 5702, 5703, 5704, 5706, 5707, 5708, 5709, 5710, 5711, 5712, 5713, 5714, 5715, 5716, 5717, 5718, 5719, 5720, 5721, 5722, 5723, 5724, 5725, 5726, 5727, 5728, 5729, 5730, 5731, 5732, 5733, 5734, 5735, 5737, 5738, 5739, 5740, 5741, 5742, 5743, 5744, 5745, 5746, 5747, 5748, 5749, 5750, 5751, 5752, 5753, 5754, 5755, 5756, 5757, 5758, 5759, 5760, 5761, 5762, 5763, 5765, 5766, 5768, 5769, 5770, 5771, 5772, 5773, 5774, 5775, 5776, 5777, 5778, 5779, 5780, 5781, 5783, 5784, 5785, 5786, 5787, 5788, 5789, 5790, 5791, 5792, 5794, 5795, 5796, 5797, 5798, 5799, 5800, 5801, 5802, 5803, 5804, 5805, 5806, 5807, 5808, 5809, 5810, 5811, 5812, 5813, 5814, 5815, 5816, 5817, 5818, 5819, 5820, 5822, 5823, 5824, 5825, 5826, 5827, 5828, 5829, 5830, 5831, 5832, 5833, 5834, 5835, 5836, 5838, 5839, 5840, 5841, 5842, 5843, 5845, 5846, 5848, 5849, 5850, 5852, 5853, 5854, 5855, 5856, 5858, 5859, 5862, 5864, 5865, 5866, 5870, 5871, 5872, 5873, 5874, 5875, 5876, 5877, 5878, 5880, 5881, 5882, 5883, 5884, 5885, 5886, 5887, 5888, 5889, 5890, 5891, 5892, 5893, 5894, 5895, 5896, 5898, 5899, 5900, 5901, 5902, 5903, 5904, 5905, 5906, 5907, 5910, 5911, 5912, 5914, 5916, 5917, 5919, 5920, 5921, 5922, 5923, 5924, 5925, 5928, 5929, 5930, 5931, 5932, 5933, 5937, 5938, 5939, 5940, 5941, 5942, 5944, 5945, 5946, 5947, 5948, 5949, 5950, 5951, 5952, 5953, 5954, 5955, 5956, 5957, 5958, 5959, 5960, 5961, 5962, 5963, 5964, 5965, 5966, 5967, 5968, 5969, 5970, 5971, 5972, 5973, 5974, 5975, 5976, 5977, 5978, 5979, 5980, 5981, 5982, 5983, 5985, 5986, 5987, 5988, 5989, 5990, 5991, 5992, 5993, 5994, 5995, 5996, 5997, 5998, 5999, 6000, 6001, 6002, 6003, 6004, 6005, 6006, 6007, 6008, 6009, 6010, 6011, 6012, 6013, 6014, 6015, 6016, 6017, 6018, 6020, 6021, 6022, 6024, 6025, 6026, 6027, 6028, 6029, 6030, 6031, 6032, 6033, 6034, 6035, 6036, 6037, 6038, 6039, 6040, 6041, 6042, 6043, 6045, 6046, 6047, 6049, 6050, 6051, 6052, 6053, 6054, 6055, 6056, 6057, 6059, 6060, 6061, 6062, 6064, 6065, 6067, 6068, 6069, 6070, 6071, 6072, 6073, 6074, 6075, 6076, 6077, 6078, 6079, 6080, 6081, 6082, 6083, 6084, 6085, 6086, 6087, 6088, 6089, 6090, 6091, 6092, 6093, 6094, 6095, 6096, 6097, 6098, 6100, 6101, 6102, 6103, 6104, 6105, 6106, 6108, 6109, 6110, 6111, 6112, 6113, 6114, 6115, 6116, 6118, 6119, 6120, 6121, 6122, 6123, 6124, 6125, 6126, 6127, 6128, 6129, 6130, 6131, 6132, 6133, 6134, 6135, 6136, 6137, 6138, 6139, 6140, 6141, 6142, 6143, 6144, 6145, 6146, 6147, 6148, 6150, 6151, 6152, 6153, 6154, 6155, 6157, 6159, 6160, 6161, 6162, 6163, 6164, 6165, 6166, 6167, 6168, 6169, 6170, 6171, 6172, 6173, 6174, 6175, 6176, 6177, 6178, 6179, 6180, 6181, 6182, 6183, 6184, 6185, 6186, 6187, 6188, 6189, 6190, 6191, 6192, 6193, 6195, 6196, 6197, 6198, 6199, 6201, 6203, 6204, 6205, 6207, 6208, 6209, 6210, 6211, 6212, 6213, 6214, 6215, 6216, 6217, 6218, 6220, 6221, 6222, 6223, 6225, 6227, 6228, 6229, 6230, 6231, 6232, 6233, 6234, 6235, 6236, 6237, 6238, 6239, 6240, 6241, 6242, 6243, 6244, 6245, 6246, 6247, 6248, 6249, 6250, 6251, 6252, 6253, 6254, 6255, 6256, 6257, 6258, 6259, 6260, 6261, 6262, 6263, 6264, 6265, 6266, 6267, 6268, 6269, 6270, 6271, 6272, 6273, 6274, 6275, 6276, 6277, 6278, 6280, 6281, 6282, 6283, 6284, 6285, 6286, 6287, 6288, 6289, 6290, 6291, 6292, 6293, 6294, 6295, 6296, 6297, 6298, 6299, 6300, 6301, 6302, 6303, 6304, 6305, 6306, 6307, 6308, 6309, 6310, 6311, 6312, 6313, 6314, 6315, 6316, 6317, 6318, 6319, 6320, 6321, 6322, 6323, 6324, 6325, 6326, 6327, 6328, 6329, 6330, 6331, 6333, 6335, 6336, 6337, 6338, 6339, 6340, 6341, 6342, 6343, 6344, 6345, 6346, 6347, 6348, 6349, 6350, 6351, 6353, 6354, 6355, 6356, 6358, 6359, 6360, 6361, 6362, 6363, 6364, 6365, 6366, 6367, 6368, 6369, 6370, 6371, 6372, 6373, 6375, 6376, 6377, 6378, 6379, 6380, 6381, 6382, 6383, 6384, 6385, 6386, 6387, 6388, 6389, 6390, 6391, 6392, 6393, 6394, 6395, 6396, 6397, 6398, 6399, 6400, 6401, 6402, 6404, 6405, 6406, 6407, 6408, 6409, 6410, 6411, 6412, 6413, 6414, 6415, 6416, 6417, 6418, 6419, 6420, 6421, 6422, 6423, 6424, 6425, 6426, 6427, 6428, 6429, 6430, 6431, 6432, 6433, 6434, 6435, 6436, 6437, 6438, 6439, 6440, 6441, 6442, 6444, 6447, 6448, 6451, 6453, 6454, 6455, 6456, 6457, 6458, 6459, 6460, 6463, 6464, 6465, 6466, 6467, 6469, 6471, 6472, 6473, 6474, 6476, 6477, 6479, 6480, 6481, 6482, 6483, 6484, 6485, 6486, 6487, 6488, 6490, 6491, 6492, 6493, 6495, 6496, 6498, 6500, 6503, 6504, 6505, 6508, 6509, 6510, 6512, 6516, 6517, 6519, 6520, 6521, 6522, 6524, 6525, 6527, 6528, 6529, 6530, 6531, 6532, 6533, 6535, 6536, 6537, 6538, 6539, 6541, 6542, 6543, 6544, 6545, 6546, 6550, 6551, 6553, 6554, 6555, 6556, 6557, 6558, 6559, 6560, 6561, 6563, 6564, 6565, 6566, 6567, 6568, 6569, 6570, 6571, 6572, 6573, 6574, 6575, 6576, 6577, 6578, 6579, 6580, 6581, 6582, 6583, 6584, 6585, 6586, 6587, 6588, 6589, 6590, 6591, 6592, 6593, 6594, 6595, 6596, 6597, 6598, 6599, 6600, 6601, 6603, 6604, 6605, 6606, 6607, 6608, 6609, 6610, 6611, 6612, 6613, 6614, 6615, 6616, 6617, 6618, 6621, 6623, 6625, 6626, 6627, 6628, 6629, 6630, 6632, 6633, 6634, 6635, 6636, 6637, 6639, 6640, 6641, 6643, 6644, 6645, 6646, 6647, 6649, 6651, 6653, 6654, 6655, 6656, 6657, 6659, 6660, 6661, 6662, 6663, 6664, 6665, 6666, 6667, 6669, 6670, 6671, 6672, 6673, 6674, 6675, 6676, 6677, 6678, 6679, 6680, 6681, 6682, 6683, 6684, 6685, 6686, 6688, 6689, 6690, 6691, 6692, 6693, 6694, 6695, 6696, 6697, 6698, 6699, 6700, 6701, 6702, 6704, 6705, 6706, 6707, 6709, 6710, 6711, 6712, 6713, 6714, 6715, 6717, 6718, 6719, 6720, 6721, 6722, 6723, 6724, 6726, 6727, 6728, 6729, 6730, 6731, 6732, 6733, 6734, 6735, 6736, 6737, 6740, 6741, 6742, 6743, 6744, 6745, 6746, 6747, 6748, 6749, 6750, 6751, 6752, 6753, 6754, 6755, 6756, 6759, 6760, 6761, 6762, 6764, 6765, 6766, 6767, 6768, 6769, 6770, 6771, 6773, 6774, 6775, 6777, 6778, 6779, 6780, 6782, 6783, 6784, 6785, 6787, 6788, 6789, 6790, 6791, 6792, 6795, 6796, 6798, 6799, 6800, 6801, 6802, 6803, 6804, 6805, 6807, 6808, 6809, 6810, 6811, 6812, 6813, 6814, 6816, 6817, 6818, 6819, 6821, 6822, 6824, 6825, 6831, 6832, 6833, 6834, 6836, 6837, 6838, 6839, 6840, 6841, 6842, 6843, 6844, 6845, 6846, 6847, 6848, 6849, 6850, 6851, 6852, 6853, 6854, 6856, 6857, 6858, 6859, 6860, 6862, 6864, 6865, 6866, 6867, 6868, 6871, 6872, 6873, 6874, 6875, 6876, 6877, 6878, 6879, 6880, 6881, 6882, 6883, 6884, 6885, 6886, 6887, 6888, 6889, 6890, 6891, 6892, 6894, 6895, 6898, 6899, 6900, 6901, 6902, 6903, 6904, 6905, 6906, 6908, 6910, 6912, 6913, 6914, 6915, 6916, 6917, 6918, 6919, 6920, 6922, 6923, 6924, 6925, 6926, 6929, 6930, 6931, 6932, 6933, 6934, 6935, 6936, 6937, 6938, 6939, 6940, 6941, 6942, 6943, 6944, 6945, 6948, 6949, 6950, 6951, 6952, 6953, 6954, 6955, 6956, 6957, 6958, 6960, 6961, 6962, 6963, 6964, 6965, 6967, 6970, 6973, 6974, 6975, 6976, 6977, 6978, 6979, 6980, 6982, 6983, 6984, 6985, 6986, 6987, 6990, 6991, 6992, 6993, 6994, 6996, 6997, 6999, 7000, 7001, 7002, 7003, 7004, 7005, 7006, 7007, 7008, 7009, 7010, 7011, 7012, 7013, 7014, 7016, 7017, 7022, 7023, 7024, 7026, 7027, 7028, 7029, 7030, 7031, 7032, 7033, 7035, 7036, 7037, 7038, 7039, 7040, 7041, 7042, 7043, 7044, 7045, 7046, 7047, 7048, 7049, 7051, 7052, 7053, 7054, 7055, 7056, 7060, 7062, 7063, 7064, 7066, 7067, 7068, 7069, 7070, 7072, 7073, 7074, 7085, 7086, 7087, 7088, 7089, 7090, 7091, 7092, 7093, 7095, 7096, 7097, 7098, 7101, 7105, 7106, 7107, 7108, 7109, 7110, 7111, 7123, 7124, 7125, 7126, 7127, 7129, 7130, 7131, 7132, 7133, 7134, 7135, 7136, 7137, 7138, 7139, 7140, 7141, 7142, 7143, 7144, 7145, 7146, 7147, 7148, 7150, 7151, 7152, 7153, 7154, 7155, 7156, 7158, 7159, 7160, 7161, 7162, 7164, 7165, 7166, 7167, 7170, 7171, 7172, 7173, 7174, 7175, 7177, 7178, 7179, 7180, 7181, 7182, 7183, 7184, 7185, 7186, 7187, 7188, 7189, 7190, 7192, 7193, 7194, 7195, 7199, 7200, 7201, 7202, 7204, 7205, 7206, 7207, 7208, 7209, 7210, 7211, 7212, 7213, 7214, 7215, 7216, 7217, 7218, 7219, 7220, 7221, 7222, 7223, 7224, 7225, 7226, 7228, 7229, 7230, 7231, 7232, 7233, 7234, 7235, 7236, 7237, 7238, 7239, 7240, 7241, 7242, 7243, 7244, 7245, 7246, 7247, 7248, 7249, 7250, 7251, 7252, 7253, 7254, 7255, 7256, 7257, 7258, 7259, 7261, 7262, 7263, 7265, 7267, 7268, 7269, 7273, 7274, 7275, 7276, 7277, 7278, 7279, 7280, 7281, 7282, 7283, 7285, 7286, 7288, 7289, 7290, 7291, 7292, 7293, 7294, 7295, 7296, 7299, 7301, 7302, 7303, 7304, 7306, 7307, 7308, 7309, 7310, 7311, 7312, 7313, 7315, 7316, 7317, 7318, 7319, 7320, 7321, 7322, 7323, 7324, 7325, 7326, 7327, 7328, 7330, 7331, 7332, 7335, 7336, 7337, 7338, 7339, 7341, 7342, 7344, 7345, 7346, 7347, 7349, 7350, 7351, 7352, 7353, 7354, 7355, 7357, 7358, 7359, 7360, 7361, 7362, 7363, 7364, 7365, 7366, 7367, 7368, 7369, 7370, 7371, 7373, 7374, 7375, 7377, 7378, 7380, 7381, 7382, 7383, 7384, 7385, 7386, 7387, 7388, 7390, 7391, 7392, 7394, 7395, 7396, 7397, 7398, 7399, 7400, 7401, 7402, 7403, 7404, 7405, 7406, 7407, 7408, 7410, 7411, 7412, 7413, 7414, 7415, 7417, 7418, 7419, 7420, 7421, 7422, 7423, 7424, 7425, 7426, 7427, 7428, 7429, 7430, 7431, 7432, 7433, 7434, 7435, 7436, 7437, 7438, 7439, 7440, 7441, 7443, 7444, 7446, 7448, 7452, 7453, 7455, 7456, 7457, 7458, 7459, 7460, 7461, 7462, 7463, 7467, 7469, 7470, 7471, 7472, 7473, 7474, 7475, 7476, 7478, 7479, 7482, 7483, 7485, 7486, 7487, 7488, 7489, 7491, 7493, 7494, 7495, 7496, 7497, 7498, 7499, 7500, 7501, 7502, 7503, 7504, 7505, 7507, 7508, 7509, 7510, 7511, 7512, 7513, 7514, 7515, 7516, 7517, 7518, 7519, 7520, 7521, 7522, 7523, 7524, 7525, 7527, 7528, 7529, 7530, 7531, 7532, 7533, 7534, 7535, 7536, 7537, 7538, 7539, 7540, 7541, 7542, 7543, 7544, 7545, 7546, 7547, 7548, 7549, 7550, 7551, 7552, 7554, 7555, 7556, 7560, 7561, 7562, 7564, 7569, 7570, 7577, 7579, 7580, 7581, 7582, 7584, 7588, 7591, 7616, 7621, 7625, 7626, 7627, 7629, 7630, 7634, 7641, 7642, 7643, 7644, 7645, 7646, 7647, 7648, 7654, 7657, 7658, 7659, 7661, 7664, 7667, 7668, 7670, 7671, 7672, 7673, 7674, 7675, 7677, 7679, 7681, 7683, 7684, 7685, 7686, 7687, 7688, 7689, 7690, 7691, 7692, 7693, 7694, 7695, 7696, 7697, 7698, 7700, 7702, 7716, 7717, 7720, 7730, 7731, 7733, 7735, 7739, 7740, 7744, 7745, 7747, 7748, 7752, 7754, 7777, 7778, 7779, 7785, 7794, 7795, 7796, 7797, 7799, 7801, 7803, 7807, 7809, 7813, 7817, 7818, 7819, 7820, 7822, 7823, 7824, 7825, 7826, 7827, 7828, 7831, 7832, 7834, 7835, 7836, 7838, 7839, 7841, 7842, 7843, 7848, 7849, 7851, 7852, 7853, 7855, 7856, 7857, 7858, 7860, 7862, 7864, 7867, 7869, 7876, 7884, 7885, 7888, 7896, 7900, 7901, 7904, 7905, 7906, 7907, 7908, 7909, 7910, 7911, 7914, 7921, 7922, 7926, 7934, 7935, 7937, 7938, 7943, 7944, 7947, 7949, 7955, 7958, 7961, 7962, 7969, 7974, 7976, 7985, 8005, 8007, 8008, 8009, 8011, 8013, 8014, 8015, 8016, 8017, 8018, 8019, 8020, 8021, 8022, 8023, 8024, 8025, 8026, 8027, 8028, 8029, 8030, 8031, 8032, 8033, 8034, 8035, 8037, 8038, 8039, 8040, 8041, 8042, 8043, 8044, 8045, 8046, 8047, 8048, 8049, 8050, 8051, 8052, 8053, 8054, 8055, 8056, 8057, 8058, 8059, 8060, 8061, 8062, 8063, 8064, 8065, 8066, 8067, 8068, 8069, 8070, 8071, 8072, 8073, 8074, 8075, 8076, 8077, 8078, 8079, 8080, 8081, 8082, 8083, 8084, 8085, 8086, 8087, 8088, 8089, 8091, 8098, 8103, 8104, 8105, 8106, 8113, 8115, 8120, 8121, 8122, 8124, 8126, 8127, 8128, 8129, 8130, 8131, 8133, 8135, 8140, 8144, 8148, 8149, 8157, 8160, 8165, 8168, 8170, 8172, 8173, 8176, 8177, 8178, 8179, 8182, 8186, 8190, 8191, 8192, 8193, 8194, 8195, 8196, 8198, 8199, 8200, 8201, 8202, 8203, 8204, 8205, 8206, 8207, 8208, 8209, 8210, 8211, 8212, 8213, 8215, 8219, 8220, 8221, 8222, 8223, 8225, 8226, 8227, 8228, 8229, 8230, 8232, 8233, 8234, 8235, 8236, 8238, 8239, 8240, 8241, 8242, 8243, 8244, 8245, 8250, 8251, 8252, 8253, 8254, 8255, 8256, 8261, 8262, 8263, 8264, 8265, 8266, 8267, 8268, 8270, 8271, 8272, 8273, 8274, 8275, 8276, 8277, 8281, 8283, 8284, 8285, 8288, 8289, 8290, 8291, 8292, 8294, 8295, 8296, 8302, 8304, 8305, 8306, 8307, 8308, 8313, 8314, 8315, 8316, 8317, 8318, 8320, 8321, 8322, 8323, 8327, 8333, 8334, 8335, 8341, 8342, 8358, 8359, 8360, 8361, 8372, 8373, 8374, 8375, 8379, 8391, 8392, 8393, 8402, 8403, 8410, 8411, 8412, 8413, 8425, 8426, 8427, 8428, 8429, 8434, 8438, 8439, 8443, 8444, 8446, 8447, 8450, 8452, 8453, 8454, 8455, 8457, 8458, 8459, 8460, 8461, 8462, 8463, 8464, 8465, 8466, 8467, 8468, 8469, 8470, 8474, 8475, 8477, 8478, 8481, 8490, 8491, 8492, 8493, 8495, 8496, 8502, 8503, 8504, 8505, 8506, 8509, 8510, 8511, 8512, 8513, 8514, 8517, 8518, 8520, 8521, 8522, 8523, 8524, 8525, 8526, 8530, 8532, 8533, 8534, 8539, 8540, 8542, 8543, 8553, 8554, 8555, 8556, 8559, 8560, 8561, 8562, 8565, 8566, 8569, 8571, 8572, 8582, 8583, 8589, 8593, 8601, 8602, 8603, 8604, 8615, 8616, 8617, 8618, 8630, 8649, 8650, 8651, 8652, 8655, 8658, 8659, 8685, 8698, 8699, 8700, 8704, 8705, 8706, 8707, 8708, 8737, 8738, 8739, 8740, 8741, 8742, 8743, 8744, 8745, 8746, 8747, 8749, 8752, 8753, 8754, 8769, 8771, 8772, 8773, 8786, 8790, 8791, 8812, 8817, 8818, 8819, 8820, 8821, 8822, 8823, 8824, 8825, 8856, 8860, 8879, 8880, 8881, 8882, 8883, 8884, 8885, 8886, 8887, 8888, 8889, 8890, 8891, 8892, 8894, 8895, 8896, 8897, 8898, 8899, 8900, 8901, 8902, 8903, 8904, 8906, 8907, 8908, 8909, 8910, 8911, 8912, 8913, 8914, 8915, 8916, 8917, 8918, 8919, 8920, 8921, 8922, 8923, 8924, 8925, 8926, 8927, 8928, 8930, 8931, 8932, 8933, 8934, 8935, 8936, 8937, 8939, 8940, 8941, 8942, 8943, 8944, 8945, 8946, 8947, 8948, 8949, 8950, 8951, 8952, 8953, 8954, 8955, 8956, 8957, 8959, 8960, 8961, 8962, 8964, 8965, 8966, 8968, 8969, 8970, 8971, 8972, 8973, 8974, 8975, 8976, 8977, 8978, 8981, 8982, 8983, 8984, 8985, 8986, 8988, 8989, 8991, 8993, 8994, 8995, 8996, 8997, 8999, 9000, 9001, 9003, 9004, 9005, 9006, 9007, 9008, 9009, 9010, 9011, 9012, 9013, 9014, 9015, 9016, 9017, 9019, 9020, 9021, 9023, 9024, 9026, 9028, 9029, 9030, 9031, 9032, 9033, 9034, 9035, 9036, 9037, 9038, 9039, 9040, 9042, 9044, 9047, 9048, 9049, 9050, 9051, 9052, 9053, 9054, 9055, 9056, 9057, 9059, 9060, 9061, 9062, 9063, 9064, 9065, 9066, 9067, 9068, 9069, 9070, 9071, 9072, 9073, 9074, 9075, 9076, 9077, 9078, 9079, 9080, 9081, 9082, 9083, 9085, 9086, 9087, 9088, 9090, 9091, 9092, 9093, 9094, 9095, 9096, 9097, 9098, 9099, 9100, 9101, 9102, 9103, 9104, 9105, 9107, 9108, 9109, 9110, 9111, 9112, 9113, 9114, 9115, 9116, 9117, 9118, 9119, 9121, 9122, 9123, 9124, 9125, 9126, 9128, 9129, 9130, 9131, 9132, 9134, 9135, 9136, 9137, 9138, 9139, 9140, 9142, 9143, 9144, 9145, 9146, 9147, 9148, 9149, 9150, 9153, 9154, 9155, 9156, 9157, 9158, 9159, 9160, 9161, 9162, 9163, 9164, 9165, 9166, 9167, 9168, 9169, 9170, 9171, 9172, 9173, 9174, 9175, 9176, 9177, 9178, 9179, 9180, 9181, 9182, 9183, 9184, 9185, 9186, 9187, 9188, 9189, 9190, 9191, 9192, 9193, 9194, 9195, 9196, 9197, 9198, 9199, 9200, 9201, 9202, 9203, 9204, 9205, 9207, 9208, 9209, 9210, 9211, 9212, 9214, 9215, 9217, 9218, 9221, 9222, 9223, 9224, 9225, 9226, 9227, 9228, 9229, 9230, 9231, 9232, 9233, 9234, 9235, 9236, 9237, 9240, 9241, 9242, 9243, 9244, 9245, 9246, 9247, 9248, 9249, 9250, 9251, 9252, 9253, 9254, 9255, 9256, 9258, 9260, 9262, 9263, 9264, 9265, 9266, 9269, 9270, 9271, 9272, 9273, 9274, 9276, 9277, 9281, 9282, 9283, 9285, 9286, 9287, 9288, 9289, 9290, 9291, 9292, 9293, 9295, 9296, 9297, 9298, 9300, 9301, 9302, 9303, 9305, 9306, 9307, 9309, 9311, 9312, 9313, 9314, 9315, 9318, 9319, 9320, 9321, 9323, 9324, 9326, 9328, 9329, 9330, 9331, 9332, 9333, 9334, 9335, 9336, 9337, 9338, 9339, 9340, 9342, 9343, 9345, 9346, 9347, 9348, 9349, 9350, 9351, 9352, 9353, 9354, 9355, 9356, 9357, 9358, 9359, 9360, 9362, 9363, 9364, 9367, 9368, 9369, 9370, 9371, 9372, 9374, 9375, 9376, 9377, 9378, 9379, 9380, 9381, 9382, 9383, 9384, 9385, 9386, 9387, 9388, 9389, 9391, 9392, 9393, 9394, 9395, 9396, 9397, 9398, 9399, 9400, 9401, 9402, 9403, 9404, 9405, 9406, 9408, 9409, 9410, 9411, 9412, 9413, 9414, 9416, 9419, 9420, 9421, 9422, 9424, 9425, 9426, 9427, 9428, 9429, 9431, 9432, 9435, 9436, 9437, 9438, 9439, 9440, 9441, 9442, 9443, 9444, 9445, 9446, 9447, 9448, 9450, 9451, 9452, 9454, 9455, 9456, 9457, 9458, 9459, 9460, 9461, 9463, 9465, 9466, 9467, 9468, 9469, 9472, 9474, 9475, 9476, 9477, 9478, 9480, 9481, 9482, 9483, 9485, 9486, 9487, 9488, 9491, 9492, 9493, 9494, 9495, 9496, 9497, 9498, 9499, 9500, 9501, 9502, 9503, 9504, 9505, 9506, 9507, 9508, 9509, 9511, 9512, 9513, 9514, 9515, 9517, 9518, 9519, 9520, 9521, 9522, 9523, 9524, 9525, 9526, 9527, 9528, 9530, 9531, 9532, 9533, 9534, 9535, 9536, 9538, 9539, 9540, 9541, 9543, 9544, 9545, 9546, 9547, 9549, 9550, 9551, 9552, 9553, 9554, 9555, 9557, 9558, 9562, 9563, 9564, 9565, 9566, 9567, 9568, 9569, 9570, 9572, 9573, 9574, 9575, 9576, 9578, 9579, 9580, 9581, 9582, 9583, 9584, 9585, 9586, 9587, 9588, 9589, 9591, 9592, 9593, 9594, 9596, 9597, 9598, 9599, 9600, 9601, 9602, 9603, 9604, 9605, 9606, 9607, 9608, 9609, 9610, 9611, 9612, 9614, 9615, 9616, 9617, 9618, 9619, 9620, 9621, 9622, 9623, 9624, 9625, 9627, 9628, 9629, 9630, 9631, 9632, 9633, 9634, 9635, 9636, 9637, 9638, 9639, 9641, 9643, 9644, 9645, 9647, 9648, 9650, 9651, 9653, 9654, 9655, 9656, 9657, 9658, 9659, 9660, 9661, 9662, 9663, 9664, 9666, 9667, 9669, 9670, 9671, 9672, 9673, 9674, 9675, 9676, 9677, 9678, 9680, 9681, 9683, 9684, 9685, 9686, 9687, 9688, 9689, 9690, 9691, 9692, 9693, 9694, 9695, 9696, 9697, 9698, 9699, 9700, 9701, 9702, 9703, 9704, 9705, 9707, 9708, 9712, 9713, 9714, 9715, 9716, 9717, 9719, 9720, 9721, 9722, 9723, 9724, 9725, 9726, 9727, 9728, 9729, 9730, 9731, 9732, 9733, 9734, 9735, 9736, 9738, 9739, 9740, 9743, 9744, 9745, 9746, 9747, 9748, 9749, 9750, 9751, 9752, 9753, 9755, 9756, 9757, 9758, 9761, 9762, 9764, 9765, 9766, 9767, 9768, 9769, 9771, 9772, 9773, 9774, 9775, 9776, 9777, 9778, 9779, 9780, 9781, 9782, 9783, 9784, 9785, 9786, 9788, 9789, 9791, 9792, 9793, 9794, 9795, 9796, 9797, 9799, 9800, 9801, 9802, 9803, 9804, 9805, 9806, 9809, 9810, 9813, 9814, 9815, 9816, 9817, 9818, 9819, 9820, 9821, 9822, 9824, 9825, 9826, 9827, 9828, 9829, 9831, 9834, 9836, 9839, 9840, 9842, 9843, 9844, 9845, 9846, 9847, 9848, 9849, 9851, 9852, 9853, 9854, 9857, 9858, 9861, 9862, 9864, 9865, 9866, 9867, 9868, 9869, 9870, 9871, 9872, 9873, 9874, 9875, 9876, 9877, 9878, 9879, 9881, 9882, 9883, 9884, 9885, 9886, 9888, 9890, 9891, 9892, 9894, 9895, 9896, 9897, 9898, 9899, 9900, 9901, 9902, 9903, 9904, 9905, 9906, 9907, 9909, 9911, 9912, 9913, 9915, 9917, 9918, 9919, 9920, 9921, 9922, 9923, 9924, 9925, 9926, 9927, 9928, 9929, 9930, 9931, 9932, 9933, 9934, 9935, 9936, 9937, 9938, 9939, 9940, 9941, 9942, 9943, 9944, 9945, 9946, 9947, 9948, 9949, 9950, 9951, 9952, 9953, 9954, 9955, 9956, 9957, 9958, 9959, 9960, 9961, 9962, 9963, 9964, 9965, 9966, 9967, 9968, 9969, 9970, 9971, 9972, 9973, 9974, 9975, 9976, 9977, 9979, 9984, 9985, 9986, 9988, 9989, 9995, 9996, 9997, 9998], -1: [6, 11, 13, 17, 18, 43, 67, 94, 111, 147, 154, 174, 178, 181, 182, 206, 207, 249, 253, 254, 264, 270, 273, 277, 280, 282, 306, 308, 314, 326, 334, 336, 340, 367, 391, 420, 443, 497, 505, 511, 520, 522, 526, 529, 553, 564, 592, 610, 635, 638, 653, 672, 754, 770, 783, 788, 790, 810, 830, 867, 882, 890, 895, 909, 910, 915, 916, 944, 957, 968, 985, 1009, 1011, 1035, 1059, 1068, 1070, 1074, 1089, 1094, 1102, 1105, 1107, 1109, 1110, 1112, 1123, 1129, 1130, 1135, 1140, 1142, 1147, 1163, 1165, 1185, 1188, 1189, 1193, 1208, 1222, 1243, 1245, 1251, 1254, 1257, 1260, 1269, 1275, 1277, 1281, 1305, 1309, 1310, 1344, 1365, 1390, 1398, 1404, 1420, 1423, 1427, 1483, 1486, 1487, 1490, 1492, 1493, 1496, 1515, 1525, 1541, 1547, 1561, 1578, 1604, 1633, 1652, 1658, 1672, 1673, 1687, 1689, 1708, 1721, 1724, 1725, 1731, 1748, 1749, 1753, 1756, 1773, 1776, 1779, 1789, 1808, 1815, 1816, 1824, 1825, 1832, 1864, 1882, 1887, 1889, 1900, 1908, 1910, 1911, 1922, 1926, 1942, 1944, 1945, 1962, 1988, 2007, 2042, 2083, 2089, 2099, 2100, 2102, 2115, 2129, 2133, 2163, 2176, 2187, 2202, 2213, 2235, 2236, 2239, 2245, 2246, 2251, 2322, 2345, 2380, 2396, 2433, 2444, 2459, 2474, 2489, 2499, 2501, 2502, 2505, 2506, 2508, 2510, 2516, 2518, 2519, 2521, 2523, 2530, 2543, 2546, 2558, 2561, 2579, 2584, 2586, 2589, 2605, 2613, 2618, 2631, 2637, 2656, 2657, 2685, 2691, 2693, 2707, 2710, 2755, 2758, 2780, 2785, 2790, 2792, 2818, 2830, 2831, 2837, 2849, 2853, 2861, 2865, 2868, 2871, 2874, 2876, 2881, 2887, 2889, 2939, 2945, 2952, 2962, 2986, 2990, 2994, 2996, 3000, 3019, 3034, 3037, 3059, 3062, 3064, 3066, 3073, 3076, 3087, 3100, 3122, 3136, 3151, 3165, 3172, 3174, 3193, 3205, 3207, 3210, 3211, 3216, 3236, 3255, 3258, 3269, 3271, 3280, 3281, 3282, 3284, 3285, 3288, 3289, 3292, 3293, 3295, 3304, 3328, 3330, 3346, 3359, 3367, 3368, 3375, 3376, 3377, 3378, 3387, 3397, 3409, 3411, 3421, 3422, 3427, 3465, 3467, 3473, 3486, 3488, 3511, 3512, 3524, 3547, 3552, 3570, 3571, 3579, 3583, 3589, 3606, 3616, 3619, 3636, 3643, 3652, 3660, 3662, 3694, 3710, 3721, 3725, 3733, 3734, 3736, 3740, 3749, 3751, 3764, 3767, 3779, 3789, 3798, 3802, 3811, 3821, 3822, 3825, 3841, 3845, 3849, 3863, 3883, 3901, 3921, 3964, 3980, 3994, 4006, 4022, 4023, 4025, 4031, 4054, 4063, 4091, 4115, 4119, 4120, 4143, 4147, 4151, 4161, 4175, 4180, 4200, 4221, 4243, 4249, 4254, 4256, 4276, 4291, 4313, 4347, 4351, 4374, 4375, 4383, 4395, 4405, 4421, 4423, 4425, 4444, 4445, 4454, 4465, 4469, 4472, 4473, 4487, 4509, 4529, 4561, 4574, 4594, 4603, 4611, 4612, 4629, 4635, 4650, 4662, 4680, 4683, 4693, 4720, 4733, 4736, 4740, 4749, 4809, 4839, 4841, 4842, 4844, 4845, 4869, 4874, 4886, 4891, 4897, 4903, 4904, 4910, 4935, 4943, 4958, 4959, 4967, 4968, 4974, 4976, 4982, 4984, 4990, 5005, 5006, 5007, 5011, 5013, 5014, 5016, 5018, 5023, 5047, 5052, 5053, 5075, 5078, 5100, 5131, 5134, 5135, 5165, 5171, 5206, 5215, 5229, 5253, 5277, 5302, 5310, 5311, 5316, 5329, 5335, 5349, 5360, 5361, 5368, 5370, 5376, 5389, 5400, 5416, 5443, 5453, 5456, 5457, 5463, 5477, 5495, 5496, 5506, 5513, 5518, 5522, 5527, 5534, 5535, 5543, 5545, 5549, 5553, 5563, 5564, 5576, 5581, 5585, 5587, 5598, 5615, 5630, 5659, 5669, 5681, 5699, 5701, 5705, 5736, 5764, 5767, 5782, 5793, 5821, 5837, 5844, 5847, 5851, 5857, 5860, 5861, 5863, 5867, 5868, 5869, 5879, 5897, 5908, 5909, 5913, 5915, 5926, 5927, 5934, 5935, 5936, 5943, 5984, 6019, 6023, 6044, 6048, 6058, 6063, 6066, 6099, 6107, 6117, 6149, 6156, 6158, 6194, 6200, 6202, 6206, 6219, 6224, 6226, 6279, 6332, 6334, 6352, 6357, 6374, 6403, 6446, 6449, 6450, 6461, 6470, 6475, 6478, 6489, 6494, 6497, 6501, 6502, 6511, 6514, 6518, 6526, 6534, 6547, 6548, 6552, 6602, 6620, 6622, 6624, 6638, 6648, 6650, 6687, 6708, 6716, 6725, 6738, 6757, 6763, 6776, 6786, 6794, 6797, 6806, 6828, 6830, 6835, 6855, 6861, 6863, 6869, 6870, 6893, 6896, 6909, 6911, 6946, 6947, 6959, 6966, 6969, 6972, 6981, 6988, 6995, 7021, 7061, 7065, 7071, 7094, 7100, 7128, 7163, 7169, 7176, 7196, 7197, 7198, 7203, 7227, 7260, 7264, 7271, 7272, 7305, 7329, 7333, 7334, 7340, 7343, 7348, 7356, 7372, 7376, 7389, 7393, 7409, 7416, 7442, 7445, 7464, 7477, 7480, 7526, 7746, 7755, 7816, 7903, 7925, 7950, 7973, 7992, 7994, 8006, 8010, 8012, 8036, 8158, 8197, 8224, 8249, 8299, 8406, 8445, 8519, 8660, 8826, 8859, 8893, 8905, 8929, 8938, 8958, 8963, 8967, 8979, 8980, 8987, 8990, 8992, 8998, 9002, 9018, 9022, 9025, 9027, 9041, 9043, 9046, 9058, 9084, 9106, 9127, 9133, 9152, 9206, 9213, 9216, 9219, 9220, 9239, 9257, 9267, 9278, 9279, 9299, 9304, 9310, 9316, 9317, 9327, 9341, 9366, 9373, 9390, 9418, 9464, 9470, 9471, 9484, 9490, 9510, 9516, 9529, 9537, 9548, 9559, 9577, 9590, 9595, 9613, 9626, 9642, 9652, 9665, 9668, 9679, 9706, 9709, 9710, 9711, 9718, 9737, 9770, 9790, 9811, 9812, 9832, 9833, 9859, 9860, 9863, 9887, 9914], 1: [62, 802, 809, 5918], 2: [105, 1100, 1104, 1261, 1396, 1426, 1534, 1538, 1586, 1702, 1704, 1713, 2095, 3275, 3373, 3477, 3485, 3489, 6445, 6468, 6506, 6513, 6523, 6540, 6658, 7025, 7300, 9294, 9325, 9407, 9430, 9759, 9808], 3: [329, 649, 651, 1239, 1449, 1521, 1530, 1537, 1560, 1595, 1786, 1888, 1930, 2842, 2893, 2936, 2947, 2978, 3090, 3114, 3305, 3349, 3356, 3393, 3439, 4141, 4231, 4448, 4652, 4657, 4692, 4743, 5381, 5445, 5449, 5452, 5455, 5468, 5471, 5476, 5479, 5481, 5486, 5488, 5492, 5493, 5552, 5557, 5558, 6781, 6820, 6827, 6907, 6921, 6998, 7034, 7149, 7270, 7447, 7481, 7484, 7492, 7506, 9089, 9308, 9322, 9361, 9365, 9415, 9449, 9462, 9489, 9571, 9682, 9754, 9763, 9830, 9880, 9889, 9893, 9908, 9910], 4: [423, 639, 1149, 1436, 1527, 1591, 1620, 1706, 1794, 1914, 1915, 1917, 1924, 1987, 2525, 2576, 3270, 3276, 3361, 3364, 3365, 3371, 3374, 3514, 3591, 3870, 3955, 3956, 4173, 4203, 4274, 4277, 4283, 4355, 4357, 4643, 4644, 4646, 4647, 4712, 4718, 4722, 5035, 5036, 5038, 5040, 5042, 5043, 5044, 5046, 5057, 5058, 5059, 5061, 5125, 5183, 5225, 5230, 5337, 5339, 5371, 5414, 6443, 6452, 6462, 6515, 6549, 6562, 6619, 6631, 6652, 6758, 6823, 6897, 7018, 7019, 7099, 7284, 7287, 7298, 7449, 7450, 8152, 8161, 8657, 9141, 9261, 9268, 9280, 9423, 9434, 9542, 9556, 9560, 9561, 9646, 9649, 9742, 9838, 9855], 5: [436, 515, 580, 748, 1262, 1712, 4268, 4563, 5101, 5127, 5128, 5343, 5407, 7157, 7454, 9151, 9275], 6: [516, 979, 1991, 3599, 3601, 3737, 3823, 3832, 4734, 8297, 9120], 7: [643, 2737, 2754, 2760, 2898, 2999, 3033, 3267, 3315, 3322, 3433, 3444, 4501, 4668, 4676, 4689, 4706, 4708, 4725, 4726, 4742, 4745, 5386, 5441, 5444, 5507, 6815, 6971, 7015, 7050, 7266, 7314, 7379, 7465, 7468, 9473, 9741, 9787, 9798, 9807, 9823, 9837, 9856], 11: [645, 1099, 1590, 1600, 1644, 1711, 1807, 3274, 3372, 3487, 4353, 4713, 5397, 5501, 5503, 5531, 6772, 7451], 16: [646, 1784, 1848, 3394, 4688, 4719], 8: [666, 698, 699, 700, 705, 706, 707, 708, 709, 710, 711, 712, 713, 714, 715, 717, 718, 722, 724, 725, 7490, 7553, 7557, 7558, 7559, 7563, 7565, 7566, 7567, 7568, 7571, 7572, 7573, 7574, 7575, 7576, 7578, 7583, 7585, 7586, 7587, 7589, 7590, 7592, 7593, 7594, 7595, 7596, 7597, 7598, 7599, 7600, 7601, 7602, 7603, 7604, 7605, 7606, 7607, 7608, 7609, 7610, 7611, 7612, 7613, 7614, 7615, 7617, 7618, 7619, 7620, 7622, 7623, 7624, 7628, 7631, 7632, 7633, 7635, 7636, 7637, 7638, 7639, 7640, 7649, 7650, 7651, 7652, 7653, 7655, 7656, 7660, 7662, 7663, 7665, 7666, 7669, 7676, 7678, 7680, 7682, 7699, 7701, 7703, 7704, 7705, 7706, 7707, 7708, 7709, 7710, 7711, 7712, 7713, 7714, 7715, 7718, 7719, 7721, 7722, 7723, 7724, 7725, 7726, 7727, 7728, 7729, 7732, 7734, 7736, 7737, 7738, 7741, 7742, 7743, 7749, 7750, 7751, 7753, 7756, 7757, 7758, 7759, 7760, 7761, 7762, 7763, 7764, 7765, 7766, 7767, 7768, 7769, 7770, 7771, 7772, 7773, 7774, 7775, 7776, 7780, 7781, 7782, 7783, 7784, 7786, 7787, 7788, 7789, 7790, 7791, 7792, 7793, 7798, 7800, 7802, 7804, 7805, 7806, 7808, 7810, 7811, 7812, 7814, 7815, 7821, 7829, 7830, 7833, 7837, 7840, 7844, 7845, 7846, 7847, 7850, 7854, 7859, 7861, 7863, 7865, 7866, 7868, 7870, 7871, 7872, 7873, 7874, 7875, 7877, 7878, 7879, 7880, 7881, 7882, 7883, 7886, 7887, 7889, 7890, 7891, 7892, 7893, 7894, 7895, 7897, 7898, 7899, 7902, 7912, 7913, 7915, 7916, 7917, 7918, 7919, 7920, 7923, 7924, 7927, 7928, 7929, 7930, 7931, 7932, 7933, 7936, 7939, 7940, 7941, 7942, 7945, 7946, 7948, 7951, 7952, 7953, 7954, 7956, 7957, 7959, 7960, 7963, 7964, 7965, 7966, 7967, 7968, 7970, 7971, 7972, 7975, 7977, 7978, 7979, 7980, 7981, 7982, 7983, 7984, 7986, 7987, 7988, 7989, 7990, 7991, 7993, 7995, 7996, 7997, 7998, 7999, 8000, 8001, 8002, 8003, 8004, 8090, 8092, 8093, 8094, 8095, 8096, 8097, 8099, 8100, 8101, 8102, 8107, 8108, 8109, 8110, 8111, 8112, 8114, 8116, 8117, 8118, 8119, 8123, 8125, 8132, 8134, 8136, 8137, 8138, 8139, 8141, 8142, 8143, 8145, 8146, 8147, 8150, 8151, 8153, 8154, 8155, 8156, 8159, 8162, 8163, 8164, 8166, 8167, 8169, 8171, 8174, 8175, 8180, 8181, 8183, 8184, 8185, 8187, 8188, 8189, 8214, 8216, 8217, 8218, 8231, 8237, 8246, 8247, 8248, 8257, 8258, 8259, 8260, 8269, 8278, 8279, 8280, 8282, 8286, 8287, 8293, 8298, 8300, 8301, 8303, 8309, 8310, 8311, 8312, 8319, 8324, 8325, 8326, 8328, 8329, 8330, 8331, 8332, 8336, 8337, 8338, 8339, 8340, 8343, 8344, 8345, 8346, 8347, 8348, 8349, 8350, 8351, 8352, 8353, 8354, 8355, 8356, 8357, 8362, 8363, 8364, 8365, 8366, 8367, 8368, 8369, 8370, 8371, 8376, 8377, 8378, 8380, 8381, 8382, 8383, 8384, 8385, 8386, 8387, 8388, 8389, 8390, 8394, 8395, 8396, 8397, 8398, 8399, 8400, 8401, 8404, 8405, 8407, 8408, 8409, 8414, 8415, 8416, 8417, 8418, 8419, 8420, 8421, 8422, 8423, 8424, 8430, 8431, 8432, 8433, 8435, 8436, 8437, 8440, 8441, 8442, 8448, 8449, 8451, 8456, 8471, 8472, 8473, 8476, 8479, 8480, 8482, 8483, 8484, 8485, 8486, 8487, 8488, 8489, 8494, 8497, 8498, 8499, 8500, 8501, 8507, 8508, 8515, 8516, 8527, 8528, 8529, 8531, 8535, 8536, 8537, 8538, 8541, 8544, 8545, 8546, 8547, 8548, 8549, 8550, 8551, 8552, 8557, 8558, 8563, 8564, 8567, 8568, 8570, 8573, 8574, 8575, 8576, 8577, 8578, 8579, 8580, 8581, 8584, 8585, 8586, 8587, 8588, 8590, 8591, 8592, 8594, 8595, 8596, 8597, 8598, 8599, 8600, 8605, 8606, 8607, 8608, 8609, 8610, 8611, 8612, 8613, 8614, 8619, 8620, 8621, 8622, 8623, 8624, 8625, 8626, 8627, 8628, 8629, 8631, 8632, 8633, 8634, 8635, 8636, 8637, 8638, 8639, 8640, 8641, 8642, 8643, 8644, 8645, 8646, 8647, 8648, 8653, 8654, 8656, 8661, 8662, 8663, 8664, 8665, 8666, 8667, 8668, 8669, 8670, 8671, 8672, 8673, 8674, 8675, 8676, 8677, 8678, 8679, 8680, 8681, 8682, 8683, 8684, 8686, 8687, 8688, 8689, 8690, 8691, 8692, 8693, 8694, 8695, 8696, 8697, 8701, 8702, 8703, 8709, 8710, 8711, 8712, 8713, 8714, 8715, 8716, 8717, 8718, 8719, 8720, 8721, 8722, 8723, 8724, 8725, 8726, 8727, 8728, 8729, 8730, 8731, 8732, 8733, 8734, 8735, 8736, 8748, 8750, 8751, 8755, 8756, 8757, 8758, 8759, 8760, 8761, 8762, 8763, 8764, 8765, 8766, 8767, 8768, 8770, 8774, 8775, 8776, 8777, 8778, 8779, 8780, 8781, 8782, 8783, 8784, 8785, 8787, 8788, 8789, 8792, 8793, 8794, 8795, 8796, 8797, 8798, 8799, 8800, 8801, 8802, 8803, 8804, 8805, 8806, 8807, 8808, 8809, 8810, 8811, 8813, 8814, 8815, 8816, 8827, 8828, 8829, 8830, 8831, 8832, 8833, 8834, 8835, 8836, 8837, 8838, 8839, 8840, 8841, 8842, 8843, 8844, 8845, 8846, 8847, 8848, 8849, 8850, 8851, 8852, 8853, 8854, 8855, 8857, 8858, 8861, 8862, 8863, 8864, 8865, 8866, 8867, 8868, 8869, 8870, 8871, 8872, 8873, 8874, 8875, 8876, 8877, 8878, 9916, 9978, 9980, 9981, 9982, 9983, 9987, 9990, 9991, 9992, 9993, 9994, 9999], 18: [751, 4298, 6968, 7020, 7102, 7297], 15: [898, 1809, 1921, 2899, 2943, 4601], 9: [905, 3922, 5348, 5431, 5510], 10: [1084, 2548, 2549, 2550, 2551, 2552, 2784, 2927, 3115, 3153, 3327, 3668, 3875, 3919, 3960, 4078, 4185, 4316, 4418, 4419, 4440, 4587, 4588, 4595, 4596, 4609, 4681, 4682, 5062, 7057, 7058, 7059, 7075, 7076, 7077, 7078, 7079, 7080, 7081, 7082, 7083, 7084, 7103, 7104, 7112, 7113, 7114, 7115, 7116, 7117, 7118, 7119, 7120, 7121, 7122], 14: [1117, 1542, 1736, 1828, 4412, 9284], 12: [1136, 1268, 1477, 1593, 1703, 1768, 1886, 1919, 1980, 1984, 3560, 3885, 4281, 4282, 4364, 5429, 6507, 7466, 9760, 9841, 9850], 13: [1494, 3391, 3897, 4899, 7168, 7191, 9640], 17: [1927, 2763, 3046, 4315, 5663, 6499, 9453], 19: [2542, 3936, 5497, 6739, 6793, 6826], 23: [3074, 4341, 6642, 6928, 9479], 22: [4571, 4663, 6668, 6927, 9259], 20: [4592, 6703, 6829, 9045, 9835], 21: [6989, 9238, 9344, 9417, 9433]}\n"
     ]
    }
   ],
   "source": [
    "if __name__ == '__main__':\n",
    "    dbscan = DbscanClustering(stopwords_path='../data/stop_words.txt')\n",
    "    result = dbscan.dbscan('../data/documents_labeled.txt', eps=0.04, min_samples=5, pca_components = 5)\n",
    "    print(result)"
   ]
  },
  {
   "cell_type": "code",
   "execution_count": 9,
   "metadata": {},
   "outputs": [
    {
     "data": {
      "text/plain": [
       "808"
      ]
     },
     "execution_count": 9,
     "metadata": {},
     "output_type": "execute_result"
    }
   ],
   "source": [
    "#查看异常文档数量\n",
    "len(result[-1])"
   ]
  },
  {
   "cell_type": "code",
   "execution_count": 11,
   "metadata": {},
   "outputs": [
    {
     "name": "stdout",
     "output_type": "stream",
     "text": [
      "(10000, 5)\n",
      "10000\n"
     ]
    }
   ],
   "source": [
    "print(dbscan.pca_weights.shape)\n",
    "print(len(dbscan.labels))"
   ]
  },
  {
   "cell_type": "code",
   "execution_count": 42,
   "metadata": {},
   "outputs": [],
   "source": [
    "#train a 2-class classifier based on the cluster result\n",
    "import torch\n",
    "from torch import nn, optim\n",
    "import math\n",
    "from res.plot_lib import plot_data, plot_model, set_default\n",
    "from IPython import display\n",
    "import random\n",
    "\n",
    "device = torch.device(\"cuda:0\" if torch.cuda.is_available() else \"cpu\")"
   ]
  },
  {
   "cell_type": "code",
   "execution_count": 49,
   "metadata": {},
   "outputs": [
    {
     "name": "stdout",
     "output_type": "stream",
     "text": [
      "Shapes:\n",
      "X_train: (8000, 5)\n",
      "y_train: (8000,)\n",
      "X_test: (2000, 5)\n",
      "y_test: (2000,)\n"
     ]
    }
   ],
   "source": [
    "#generate shuffle list\n",
    "random.seed(1)\n",
    "shuffle_list = [i for i in range(10000)]\n",
    "random.shuffle(shuffle_list)\n",
    "\n",
    "#retrieve data\n",
    "X = dbscan.pca_weights\n",
    "Y = dbscan.labels\n",
    "\n",
    "#split training and testing data\n",
    "X_train, X_test, y_train, y_test = [], [], [], []\n",
    "for i in range(10000):\n",
    "    if i < 8000:\n",
    "        X_train.append(X[shuffle_list[i]])\n",
    "        y_train.append(y[shuffle_list[i]])\n",
    "    else:\n",
    "        X_test.append(X[shuffle_list[i]])\n",
    "        y_test.append(y[shuffle_list[i]])\n",
    "\n",
    "#convert np array to torch array\n",
    "X_train = torch.tensor(X_train).float().to(device)\n",
    "y_train = torch.tensor(y_train).to(device)\n",
    "X_test = torch.tensor(X_test).float().to(device)\n",
    "y_test = torch.tensor(y_test).to(device)\n",
    "\n",
    "print(\"Shapes:\")\n",
    "print(\"X_train:\", tuple(X_train.size()))\n",
    "print(\"y_train:\", tuple(y_train.size()))\n",
    "print(\"X_test:\", tuple(X_test.size()))\n",
    "print(\"y_test:\", tuple(y_test.size()))"
   ]
  },
  {
   "cell_type": "code",
   "execution_count": 23,
   "metadata": {},
   "outputs": [],
   "source": [
    "#Model configuration\n",
    "D, H, C = 5, 20, 2 #dimension, num_hidden_units, num_classes\n",
    "learning_rate = 1e-3\n",
    "lambda_l2 = 1e-5\n",
    "model = nn.Sequential(\n",
    "    nn.Linear(D, H),\n",
    "    nn.ReLU(),\n",
    "    nn.Linear(H, C)\n",
    ")"
   ]
  },
  {
   "cell_type": "code",
   "execution_count": 58,
   "metadata": {},
   "outputs": [],
   "source": [
    "def train(model, X_t, y_t):\n",
    "    model.to(device)\n",
    "\n",
    "    criterion = torch.nn.CrossEntropyLoss()\n",
    "\n",
    "    optimizer = torch.optim.Adam(model.parameters(), lr=learning_rate, weight_decay=lambda_l2)\n",
    "\n",
    "    #Training\n",
    "    for t in range(1000):\n",
    "        y_pred = model(X_t)\n",
    "\n",
    "        loss = criterion(y_pred, y_t)\n",
    "        score, predicted = torch.max(y_pred, 1)\n",
    "        acc = (y_t==predicted).sum().float() / len(y_t)\n",
    "        print(\"[EPOCH]: %i, [LOSS]: %.6f, [ACCURACY]: %.3f\" % (t, loss.item(), acc))\n",
    "        display.clear_output(wait=True)\n",
    "\n",
    "        optimizer.zero_grad()\n",
    "        loss.backward()\n",
    "        optimizer.step()\n",
    "\n",
    "\n",
    "def test(model, X_t, y_t):\n",
    "    y_pred = model(X_t)\n",
    "    score, predicted = torch.max(y_pred, 1)\n",
    "    acc = (y_t==predicted).sum().float() / len(y_t)\n",
    "    print(\"[ACCURACY]: %.3f\" % (acc))"
   ]
  },
  {
   "cell_type": "code",
   "execution_count": 57,
   "metadata": {},
   "outputs": [
    {
     "name": "stdout",
     "output_type": "stream",
     "text": [
      "[EPOCH]: 999, [LOSS]: 0.140514, [ACCURACY]: 0.951\n"
     ]
    }
   ],
   "source": [
    "train(model, X_train, y_train)"
   ]
  },
  {
   "cell_type": "code",
   "execution_count": 59,
   "metadata": {},
   "outputs": [
    {
     "name": "stdout",
     "output_type": "stream",
     "text": [
      "[ACCURACY]: 0.945\n"
     ]
    }
   ],
   "source": [
    "test(model, X_test, y_test)"
   ]
  },
  {
   "cell_type": "code",
   "execution_count": 64,
   "metadata": {},
   "outputs": [],
   "source": [
    "torch.save(model, '../data/model/model.pt')"
   ]
  },
  {
   "cell_type": "code",
   "execution_count": 65,
   "metadata": {},
   "outputs": [
    {
     "name": "stdout",
     "output_type": "stream",
     "text": [
      "[ACCURACY]: 0.945\n"
     ]
    }
   ],
   "source": [
    "the_model = torch.load('../data/model/model.pt')\n",
    "test(the_model, X_test, y_test)"
   ]
  },
  {
   "cell_type": "code",
   "execution_count": 76,
   "metadata": {},
   "outputs": [],
   "source": [
    "class AnomalyDetector():\n",
    "    def __init__(self, model_path, stopwords_path, corpus_path):\n",
    "        #加载分类器模型\n",
    "        self.model = torch.load(model_path)\n",
    "        print(\"model loaded...\")\n",
    "        \n",
    "        #加载停用词\n",
    "        self.stopwords = self.load_stopwords(stopwords_path)\n",
    "        print(\"stopwords loaded...\")\n",
    "        \n",
    "        #加载并处理文档\n",
    "        self.corpus = self.preprocess_data(corpus_path)\n",
    "        print(\"corpus loaded...\")\n",
    "        \n",
    "        #加载transformers，可讲输入文档变换为特征矩阵\n",
    "        with open('../data/Transformer/CountVecTransformer.pkl', 'rb') as fp:\n",
    "            self.CountVecTrans = pickle.load(fp)\n",
    "        with open('../data/Transformer/TfidfTransformer.pkl', 'rb') as fp:\n",
    "            self.TfidfTrans = pickle.load(fp)\n",
    "        with open('../data/Transformer/PCATransformer.pkl', 'rb') as fp:\n",
    "            self.PCATrans = pickle.load(fp)\n",
    "        print(\"transformers loaded...\")\n",
    "        \n",
    "        #检测异常文档\n",
    "        self.anomaly_index = self.detect()\n",
    "        #输出\n",
    "        self.print_anomaly()\n",
    "        \n",
    "    def load_stopwords(self, stopwords=None):\n",
    "        if stopwords:\n",
    "            with open(stopwords, 'r', encoding='utf-8') as f:\n",
    "                return [line.strip() for line in f]\n",
    "        else:\n",
    "            return []\n",
    "        \n",
    "    def preprocess_data(self, corpus_path):\n",
    "        corpus = []\n",
    "        with open(corpus_path, 'r', encoding='utf-8') as f:\n",
    "            for line in f:\n",
    "                line = line.strip()\n",
    "                line = re.sub(r\"[0-9\\s+\\.\\!\\/_,$%^*()?;；:-【】+\\\"\\']+|[+——！，;:。？、~@#￥%……&*（）]+\", \" \", line)\n",
    "                clean_str = ' '.join([word for word in jieba.lcut(line) \\\n",
    "                                      if word != \" \" and word != \"\\t\" and word not in self.stopwords])\n",
    "                corpus.append(clean_str)\n",
    "        return corpus\n",
    "    \n",
    "    def classify_anomaly(self, model, features):\n",
    "        res = []\n",
    "        features = torch.tensor(features).float()\n",
    "        y_pred = model(features)\n",
    "        score, predicted = torch.max(y_pred, 1)\n",
    "        for i in range(len(features)):\n",
    "            if predicted[i] == 0:\n",
    "                res.append(i)\n",
    "                \n",
    "        return res\n",
    "    \n",
    "    def detect(self):        \n",
    "        #获得语料特征矩阵\n",
    "        countVec = self.CountVecTrans.transform(self.corpus)\n",
    "        tfidf = self.TfidfTrans.transform(countVec)\n",
    "        features = self.PCATrans.transform(tfidf.toarray())\n",
    "        print(\"feature extracted...\")\n",
    "        \n",
    "        #获得异常文档编号\n",
    "        print(\"Detecting anomaly.........\\n\")\n",
    "        anomaly_index = self.classify_anomaly(self.model, features)\n",
    "        \n",
    "        print(\"Successfully detected anomalies! Anomaly indexes:\")\n",
    "        print(anomaly_index)\n",
    "        return anomaly_index\n",
    "    \n",
    "    def print_anomaly(self):\n",
    "        with open(corpus_path, 'r') as f:\n",
    "            lines = f.readlines()\n",
    "            for idx in self.anomaly_index:\n",
    "                print(lines[idx])"
   ]
  },
  {
   "cell_type": "code",
   "execution_count": 77,
   "metadata": {},
   "outputs": [
    {
     "name": "stdout",
     "output_type": "stream",
     "text": [
      "model loaded...\n",
      "stopwords loaded...\n",
      "corpus loaded...\n",
      "transformers loaded...\n",
      "feature extracted...\n",
      "Detecting anomaly.........\n",
      "\n",
      "Successfully detected anomalies! Anomaly indexes:\n",
      "[5, 11, 50, 311, 695, 704, 1095, 1154, 1256, 2104, 2541, 2548, 2634, 3208, 3381, 3408, 3457, 3507, 3516, 3543, 3545, 3548, 3772, 3781, 3793, 3805, 3813, 4125]\n",
      "荷兰皇家壳牌跌幅扩大至13 报33.06美元 第一季度转盈为亏 同花顺上线「疫情地图」 点击查看 新型肺炎疫情实时动态地图 gt gt gt 关注同花顺财经 ths518 获取更多机会 责任编辑 zhy\n",
      "\n",
      "推特盘前跳水 现跌5.56 报29.36美元 此前该股一度涨超13 今日该公司公布了一季报 同花顺上线「疫情地图」 点击查看 新型肺炎疫情实时动态地图 gt gt gt 关注同花顺财经 ths518 获取更多机会 责任编辑 qxb\n",
      "\n",
      "英特尔盘前跌5.4 此前宣布撤回全年指引 同花顺上线「疫情地图」 点击查看 新型肺炎疫情实时动态地图 gt gt gt 关注同花顺财经 ths518 获取更多机会 责任编辑 lyj\n",
      "\n",
      "阿里健康 00241.HK 跌幅扩大至约5 现报18.64港元 同花顺上线「疫情地图」 点击查看 新型肺炎疫情实时动态地图 gt gt gt 关注同花顺财经 ths518 获取更多机会 责任编辑 cdh\n",
      "\n",
      "英特尔盘后跌幅扩大至5.6 发布时间 今天 04 10 nbsp nbsp 消息来源 云财经 阅读原文 影响力评估指数 17.84 nbsp 收藏 已收藏 云财经讯 英特尔盘后跌幅扩大至5.6 新闻标题 时间 消息来源 新闻热度 科新机电2020年一季度董事会经营评述 今天 01 32 同花顺 新证券法喊话投资者保护年报以近万亿元分红作答 今天 00 43 证券日报 五大核心驱动因素推动券商整合 04 23 22 44 同花顺 温氏股份 外资持股比例创新高一季度加快新产能建设 04 23 22 57 东财 科迪光电2019年净利384.24万下滑12.59 产品销售量减少 04 23 22 09 东财 中光学Q1净利亏损2569万元中国电科子公司上位第二大股东 04 23 20 48 新浪财经\n",
      "\n",
      "吉利德科学恢复交易后跌幅现收窄至1.6 同花顺上线「疫情地图」 点击查看 新型肺炎疫情实时动态地图 gt gt gt 关注同花顺财经 ths518 获取更多机会 责任编辑 ly\n",
      "\n",
      "港股TCL电子跌3.74 此前回应遭申请提起337调查申请 称此案件不会对公司业务造成实质性影响 同花顺上线「疫情地图」 点击查看 新型肺炎疫情实时动态地图 gt gt gt 关注同花顺财经 ths518 获取更多机会 责任编辑 cdh\n",
      "\n",
      "科技股持续下挫 苹果跌近3 谷歌A跌近4 亚马逊跌3.1 微软与Facebook跌4.5 同花顺上线「疫情地图」 点击查看 新型肺炎疫情实时动态地图 gt gt gt 关注同花顺财经 ths518 获取更多机会 责任编辑 lyj\n",
      "\n",
      "比亚迪 002594 股份持续下挫 大跌近7 今日 网传一张比亚迪内部 关于受疫情影响深圳住房公积金相关事项审议结果的公示 的文件图片 公示内容显示 受疫情影响 比亚迪公司决定于2020年4月至2020年6月对深圳住房公积金进行停缴 单位及个人均停缴 2020年7月起恢复按政策缴存比例 同花顺上线「疫情地图」 点击查看 新型肺炎疫情实时动态地图 gt gt gt 关注同花顺财经 ths518 获取更多机会 责任编辑 yc\n",
      "\n",
      "特锐德 300001 今日跌停 四机构卖出2.11亿元 四机构买入3275万元 同花顺上线「疫情地图」 点击查看 新型肺炎疫情实时动态地图 gt gt gt 关注同花顺财经 ths518 获取更多机会 责任编辑 qxb\n",
      "\n",
      "长城影视集合竞价跌停 现报2.07元 消息上 长城影视公告 因公司涉嫌信息披露违法违规 中国证券监督管理委员会决定对公司进行立案调查 同花顺上线「疫情地图」 点击查看 新型肺炎疫情实时动态地图 gt gt gt 关注同花顺财经 ths518 获取更多机会 责任编辑 hxt\n",
      "\n",
      "A股市场出现离奇一幕 多位股民宣称股票账号被盗 一夜之间被清仓后买入济民制药 603222 而且矛头都指向了第三方股票交易平台同花顺 到底是同花顺出现漏洞导致盗号 还是这些投资者落入微信炒股群的圈套在无意间成了 韭菜 4月10日 同花顺作出回应称 网传信息与事实不符 部分投资者安全防范意识不够导致资金账户 密码泄露 据了解 部分投资者因为在炒股微信群里被骗或其他各种原因泄露了证券公司的交易账号和密码 导致盗买盗卖的发生 前一个交易日强势涨停的同花顺 300033 在4月10日出现股价大幅下挫 当日跌幅达6.14 股票账户被清仓后买入济民制药 第二天跌停 一家中型券商内部人士告诉澎湃新闻记者 确实有客户卷入了这起事件中 不过该公司只有1名客户 而且资金量也不大 券商技术系统的后台信息显示 这位客户账户在4月2日11时19分至11时20分期间有5笔委托卖出记录 全部成交 几乎清仓 而在4月2日12时09分 该账户全仓买入了济民制药 这位客户对于这6笔交易并不认可 称自己并未登陆账户交易 账户可能被盗 值得一提的是 上述交易操作均由同花顺交易软件进行下单 澎湃新闻记者还获悉 已有不止一位投资者向公安机关报警 称自己同花顺APP股票账户被恶意登录并买卖股票 值得一提的是 这些苦主 被买入 的股票都是同一只 济民制药 买入时间也都集中在4月2日 济民制药的股价在4月2日收报52.09元 4月3日断崖式下跌并出现一字板跌停 股价收报46.88元 不少人认为 这些 被买入 的股民们都被迫成了庄家出货的接盘侠 同花顺回应 部分投资者泄露账户和密码 一时间 同花顺这一国内知名的第三方交易平台被推上了风口浪尖 4月10日下午 同花顺通过官网和官方微博发布了声明回应此事 同花顺称 留意到了网络的信息 与同花顺相关的内容完全与事实不符 同花顺始终以客户的利益为出发点 与各大证券公司一起 为证券市场参与者提供安全 便捷的优质服务 部分投资者安全防范意识不够导致资金账户 密码泄露 据了解 部分投资者因为在炒股微信群里被骗或其他各种原因泄露了证券公司的交易账号和密码 导致盗买盗卖的发生 同花顺在声明中称 防范证券犯罪 是证券行业共同面临的挑战 如果客户确信不是自己操作从而发生盗买盗卖情况下 建议立即报警 同花顺将联合券商提供充分的帮助 必要时 同花顺可以提供法律援助 上述声明还提到 不法分子同普通股民一样 也可能会使用同花顺软件 但同花顺有完善的安全机制 能有效防范不法分子的犯罪活动 确保用户的安全 在当前网络环境下 任何一个IT系统都可能面临安全问题 同花顺强调要加强系统安全 持续投入 强化安全 将客户的安全放在首位 将与各大证券公司一起 持续采取高额投入 强化证券IT系统安全机制 此外 同花顺提醒用户一定要自己做好密码安全措施 呼吁用户加强防范意识 保护好个人账号 在任何互联网环境下 应设置强密码 定期更改密码 不同网络和系统要用不同的密码等等 同花顺还表示 留意到了本次事件发酵的背后 有些机构和单位在幕后推动 呼吁证券行业携手应对共同打击证券违法犯罪行为 而不应再煽风点火 甚至无中生有协助不法分子转移视线 股吧透露庄股内幕 有微信群和帖子指导股民建仓 澎湃新闻记者注意到 在济民制药的股吧中 有遭遇损失的投资者发帖称自己已经报警 不过 还有不少帖子中的信息透露 有微信群指导股民建仓该股 近期的一则帖子这样写道 四月初第一只私募游资建仓 预期收益30 50 分批建仓风格 为了有效抢到优质筹码 请于现在挂单抢筹 所以务必现价买入 名称代码 603222 济民制药 第一批建仓价格 现价全部52.50元抢筹 买入时间 9 55 00秒 9 59 59秒 而在这则帖子下方 有股民留言称 这只股票有很多的托 我们上当了 还有股民呼吁大家统一行动起来 赶紧去报警 这些信息与同花顺所称 部分投资者因为在炒股微信群里被骗 的说法似乎相吻合 对于这一罕见的情况 市场人士各持己见 有股民公开表达对同花顺的不信任 更有甚者称要卸载这些第三方软件 但也有业内人士向记者分析称 如果真的是同花顺出现漏洞 可能结果会严重得多 投资者的损失也不会是这一量级的 在采访中 有券商对记者表示 还是建议投资者通过券商自己的APP下单交易股票 减少通过第三方平台操作的风险 本文来自澎湃新闻 更多原创资讯请下载 澎湃新闻 APP\n",
      "\n",
      "摘要 同花顺股价午后下挫 现跌6.5 同花顺股价午后下挫 现跌6.5 此前网传股民账户被盗买入济民制药 同花顺午间回应称与公司相关内容与事实不符 第一财经 同花顺 股价午后下挫 现跌6.5 此前网传股民账户被盗买入 济民制药 同花顺 午间回应称与 公司 相关内容与事实不符 文章来源 第一财经 责任编辑 DF010\n",
      "\n",
      "小米集团跌2.7 小米为爱奇艺的第二大股东 同花顺上线「疫情地图」 点击查看 新型肺炎疫情实时动态地图 gt gt gt 关注同花顺财经 ths518 获取更多机会 责任编辑 ly\n",
      "\n",
      "神州租车暴跌50 成交额近9000万港元 同花顺上线「疫情地图」 点击查看 新型肺炎疫情实时动态地图 gt gt gt 关注同花顺财经 ths518 获取更多机会\n",
      "\n",
      "港股神州租车跌幅扩大至40 刷新历史最低价 该公司大股东陆正耀亦为瑞幸咖啡大股东 隔夜 中概股瑞幸咖啡自曝造假22亿元 股价暴跌逾75 同花顺上线「疫情地图」 点击查看 新型肺炎疫情实时动态地图 gt gt gt 关注同花顺财经 ths518 获取更多机会\n",
      "\n",
      "蔚来汽车 NIO.N 跌幅扩大至15 报2.25美元 同花顺上线「疫情地图」 点击查看 新型肺炎疫情实时动态地图 gt gt gt 关注同花顺财经 ths518 获取更多机会\n",
      "\n",
      "瑞幸咖啡再次恢复交易 跌72 换手率高达87 同花顺上线「疫情地图」 点击查看 新型肺炎疫情实时动态地图 gt gt gt 关注同花顺财经 ths518 获取更多机会 责任编辑 lyj\n",
      "\n",
      "美股部分热门中概股走低 蔚来汽车跌3.4 拼多多跌3.5 唯品会跌2.23 京东跌2.1 阿里巴巴跌0.78 同花顺上线「疫情地图」 点击查看 新型肺炎疫情实时动态地图 gt gt gt 关注同花顺财经 ths518 获取更多机会 责任编辑 qxb\n",
      "\n",
      "瑞幸咖啡盘前跌幅进一步扩大至80 此前公司自爆伪造交易 同花顺上线「疫情地图」 点击查看 新型肺炎疫情实时动态地图 gt gt gt 关注同花顺财经 ths518 获取更多机会\n",
      "\n",
      "瑞幸咖啡盘前跌幅进一步扩大 现跌逾70 报7.9美元 同花顺上线「疫情地图」 点击查看 新型肺炎疫情实时动态地图 gt gt gt 关注同花顺财经 ths518 获取更多机会 责任编辑 lyj\n",
      "\n",
      "瑞幸咖啡盘前跌幅扩大逾60 报9.6美元 昨日收盘价为26.2美元 同花顺上线「疫情地图」 点击查看 新型肺炎疫情实时动态地图 gt gt gt 关注同花顺财经 ths518 获取更多机会 责任编辑 lyj\n",
      "\n",
      "美股银行股低走 摩根士丹利跌7.45 高盛跌5.93 摩根大通跌5.15 美国银行跌5.89 纽约梅隆银行跌4.91 同花顺上线「疫情地图」 点击查看 新型肺炎疫情实时动态地图 gt gt gt 关注同花顺财经 ths518 获取更多机会 责任编辑 qxb\n",
      "\n",
      "同花顺 300033 美股讯周三美国股指期货大幅走低 截至发稿时间 道指期货跌3.34 纳指期货跌3.3 标普500指数期货跌2.73 欧股集体大幅下挫 截至发稿 英国富时100指数跌3.6 法国CAC40指数跌4.32 德国DAX指数跌3.77 美 布两油涨跌不一 截止发稿时间 WTI原油期货涨0.54 报20.59美元 桶 布伦特原油期货跌3.42 报25.46美元 桶 现货黄金 现货黄金涨0.70 报1587美元 盎司 财经新闻 摩根士丹利称底部正在形成 根据摩根士丹利的一项分析 现在是时候在投资组合中提高风险 逐步重返估值便宜的市场了 该行对过往衰退和市场低谷的分析显示 市场底部正在形成 摩根士丹利称标普500指数再探低点的可能性很小 钟南山预计全球疫情4月底出现拐点 钟南山4月1日接受专访时表示 相信随着各个国家采取强有力的措施 全球疫情是能够控制下来的 我估计应该是4月底左右 疫情应该下来了 沙特阿美4月第一天的石油供应量超过了1200万桶 天 一位了解沙特石油业务的业内官员透露 沙特阿美4月第一天的石油供应量超过了1200万桶 天 产量还在不断上升 因信息未公开 这位官员要求匿名 投资老将罗杰斯 预计未来几年将出现 最糟糕的熊市 随着全球股市试图从全球金融危机以来的最大季度跌幅中反弹 投资老将吉姆.罗杰斯称更糟的情况还在前面 罗杰斯在电话采访中说 我预计在未来几年 我们将经历我有生以来最糟糕的熊市 特朗普呼吁民众别和医院抢口罩 戴围巾也挺好 据美国有线电视新闻网 CNN 报道 特朗普在会上称 人们可以用围巾遮挡面部 很多人都有围巾 可以用围巾来预防病毒 一条围巾就很好了 公司新闻 百度拟发行新债 未披露债权规模 4月1日 百度向美国证券交易委员会 SEC 递交文件 宣布公司拟发行债券 承销商为高盛和美国银行 但未披露债券规模和利率 百度称 此次发债的所得收益将用于偿还部分现有债务和公司一般用途 贝莱德与路博迈提交公募基金公司设立资格审批申请 证监会官网公示 贝莱德与路博迈已经提交了公募基金管理公司设立资格审批申请 证监会官网显示 目前审批进程为接受材料 刘强东再卸旗下13家公司高管 今年已卸任46家企业 3分钟开通港美股帐户 同花顺上线「疫情地图」 点击查看 新型肺炎疫情实时动态地图 gt gt gt 关注同花顺财经 ths518 获取更多机会 责任编辑 lyj\n",
      "\n",
      "部分油气股盘前下挫 切萨皮克能源 戴文能源跌超7 西方石油 卡隆石油跌超3 马拉松石油跌1.22 同花顺上线「疫情地图」 点击查看 新型肺炎疫情实时动态地图 gt gt gt 关注同花顺财经 ths518 获取更多机会 责任编辑 qxb\n",
      "\n",
      "在美上市英国银行盘前大跌 汇丰控股跌9.28 苏格兰皇家银行 巴克莱 劳埃德银行均跌超3 同花顺上线「疫情地图」 点击查看 新型肺炎疫情实时动态地图 gt gt gt 关注同花顺财经 ths518 获取更多机会 责任编辑 qxb\n",
      "\n",
      "美股部分科技股盘前下挫 特斯拉跌3.63 苹果跌1.29 微软跌2.35 同花顺上线「疫情地图」 点击查看 新型肺炎疫情实时动态地图 gt gt gt 关注同花顺财经 ths518 获取更多机会 责任编辑 lyj\n",
      "\n",
      "C2M概念低开领跌 惠而浦 600983 跌停 德力股份 002571 青岛金王 002094 美邦服饰 002269 等集体走弱 同花顺上线「疫情地图」 点击查看 新型肺炎疫情实时动态地图 gt gt gt 关注同花顺财经 ths518 获取更多机会 责任编辑 hxt\n",
      "\n"
     ]
    }
   ],
   "source": [
    "model_path = '../data/model/model.pt'\n",
    "stopwords_path = '../data/stop_words.txt'\n",
    "corpus_path = '../data/documents_股价下跌.txt'\n",
    "ad = AnomalyDetector(model_path, stopwords_path, corpus_path)"
   ]
  },
  {
   "cell_type": "code",
   "execution_count": null,
   "metadata": {},
   "outputs": [],
   "source": []
  }
 ],
 "metadata": {
  "kernelspec": {
   "display_name": "Python 3.8.1 64-bit ('pDL': conda)",
   "language": "python",
   "name": "python_defaultSpec_1593652350292"
  },
  "language_info": {
   "codemirror_mode": {
    "name": "ipython",
    "version": 3
   },
   "file_extension": ".py",
   "mimetype": "text/x-python",
   "name": "python",
   "nbconvert_exporter": "python",
   "pygments_lexer": "ipython3",
   "version": "3.8.1"
  }
 },
 "nbformat": 4,
 "nbformat_minor": 4
}